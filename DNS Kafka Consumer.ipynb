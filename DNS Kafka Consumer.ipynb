{
 "cells": [
  {
   "cell_type": "code",
   "execution_count": 16,
   "id": "d7f5cb35",
   "metadata": {},
   "outputs": [],
   "source": [
    "from kafka import KafkaConsumer"
   ]
  },
  {
   "cell_type": "code",
   "execution_count": 17,
   "metadata": {},
   "outputs": [],
   "source": [
    "import numpy as np\n",
    "import pickle\n",
    "import pandas as pd\n",
    "\n",
    "from sklearn.pipeline import Pipeline\n",
    "from sklearn.preprocessing import StandardScaler\n",
    "from sklearn.preprocessing import LabelEncoder\n",
    "from sklearn.feature_selection import SelectKBest\n",
    "from sklearn.feature_selection import mutual_info_classif\n",
    "from sklearn.ensemble import RandomForestClassifier\n",
    "from json import dumps\n",
    "\n",
    "\n",
    "from sklearn.metrics import classification_report,accuracy_score\n",
    "\n"
   ]
  },
  {
   "cell_type": "code",
   "execution_count": 18,
   "metadata": {},
   "outputs": [],
   "source": [
    "consumer = KafkaConsumer(\n",
    "    'ml-raw-dns',\n",
    "    bootstrap_servers=\"localhost:9092\",\n",
    "    auto_offset_reset='earliest',\n",
    "    enable_auto_commit=False\n",
    ")"
   ]
  },
  {
   "cell_type": "code",
   "execution_count": 19,
   "id": "3dc557cd",
   "metadata": {},
   "outputs": [],
   "source": [
    "max_messages = 1000  # Set your desired maximum number of messages\n",
    "message_count = 0\n",
    " #this function gets the records of th\n",
    "def get_records (max_messages):\n",
    "    records =[]\n",
    "    message_count = 0\n",
    "    for m in consumer:\n",
    "      #  print(m.value)\n",
    "        records.append(m.value)\n",
    "        message_count += 1\n",
    "        if message_count >= max_messages:\n",
    "            break\n",
    "    return records\n",
    "\n",
    "\n",
    " "
   ]
  },
  {
   "cell_type": "code",
   "execution_count": 20,
   "metadata": {},
   "outputs": [],
   "source": [
    "# a= get_records(1000)"
   ]
  },
  {
   "cell_type": "code",
   "execution_count": 21,
   "metadata": {},
   "outputs": [],
   "source": [
    "col_names =[\"timestamp\",\"FQDN_count\",\"subdomain_length\",\"upper\",\"lower\",\"numeric\",\"entropy\",\"special\",\"labels\",\"labels_max\",\"labels_average\",\"longest_word\",\"sld\",\"len\",\"subdomain\",\"Target Attack\"]\n",
    "def Read_data( data):\n",
    "    dataframe=pd.DataFrame()\n",
    "    list_of_rows=[]\n",
    "    for item in data:\n",
    "        row_string=eval(item.decode(\"UTF-8\"))\n",
    "        row_string = row_string.strip()\n",
    "        row= row_string.split(\",\")\n",
    "        list_of_rows.append(row)\n",
    "    dataframe=pd.DataFrame(list_of_rows)\n",
    "    dataframe.columns=col_names\n",
    "    return dataframe"
   ]
  },
  {
   "cell_type": "code",
   "execution_count": 22,
   "metadata": {},
   "outputs": [],
   "source": [
    "def data_preprocessing(data):\n",
    "    data = data.drop_duplicates()\n",
    "    data = data.dropna()\n",
    "    data = data.drop(columns=['timestamp'])\n",
    "    categorical_cols = [col for col in data.columns if data[col].dtype == 'object']\n",
    "    for coolumn in categorical_cols :\n",
    "        label_encoder = LabelEncoder()\n",
    "        # Fit the encoder on the existing data\n",
    "        label_encoder.fit(data[coolumn])\n",
    "        # Transform new data to numeric values\n",
    "        data[coolumn] = label_encoder.transform(data[coolumn])\n",
    "        #print(\"Encoded values for new data:\", data)\n",
    "    return data "
   ]
  },
  {
   "cell_type": "code",
   "execution_count": 23,
   "metadata": {},
   "outputs": [],
   "source": [
    "def pipe_line(data):\n",
    "\n",
    "    pipe = Pipeline(steps=[(\"MI with RF\",SelectKBest(score_func=mutual_info_classif, k=8)), (\"RandomForestClassifier\", RandomForestClassifier())])\n",
    "    X =data.drop(labels = [\"Target Attack\"], axis=1)\n",
    "    y=data[\"Target Attack\"]\n",
    "    pipe.fit(X,y)\n",
    "    return pipe"
   ]
  },
  {
   "cell_type": "code",
   "execution_count": 24,
   "metadata": {},
   "outputs": [],
   "source": [
    "static_model =pickle.load(open('static_model_tuned.pkl', 'rb'))"
   ]
  },
  {
   "cell_type": "code",
   "execution_count": 25,
   "metadata": {},
   "outputs": [],
   "source": [
    "Dynamic_model= pickle.load(open('static_model_tuned.pkl', 'rb'))"
   ]
  },
  {
   "cell_type": "code",
   "execution_count": 26,
   "metadata": {},
   "outputs": [],
   "source": [
    "selectted_columns = ['sld', 'longest_word', 'numeric', 'subdomain_length', 'FQDN_count',\n",
    "       'special', 'upper', 'labels' , 'Target Attack']"
   ]
  },
  {
   "cell_type": "code",
   "execution_count": 27,
   "metadata": {},
   "outputs": [],
   "source": [
    "def Feature_select(data):\n",
    "    data = data [selectted_columns]\n",
    "    return data\n"
   ]
  },
  {
   "cell_type": "markdown",
   "metadata": {},
   "source": []
  },
  {
   "cell_type": "code",
   "execution_count": 28,
   "metadata": {},
   "outputs": [],
   "source": [
    "# def retrain(data):\n",
    "\n",
    "#     pipe = Pipeline(steps=[(\"MI with RF\",SelectKBest(score_func=mutual_info_classif, k=8)), (\"RandomForestClassifier\", RandomForestClassifier())])\n",
    "#     X =data.drop(labels = [\"Target Attack\"], axis=1)\n",
    "#     y=data[\"Target Attack\"]\n",
    "#     pipe.fit(X,y)\n",
    "#     return pipe"
   ]
  },
  {
   "cell_type": "code",
   "execution_count": 29,
   "metadata": {},
   "outputs": [],
   "source": [
    "# data.head"
   ]
  },
  {
   "cell_type": "code",
   "execution_count": 30,
   "metadata": {},
   "outputs": [
    {
     "name": "stdout",
     "output_type": "stream",
     "text": [
      "The F1 Score of Dynamic Model without retrain = 80.18018018018019%\n",
      "The F1 Score of Dynamic Model without retrain = 80.48048048048048%\n",
      "Retraining model on new data\n",
      "The F1 of Dynamic Model after retrain = 80.98098098098097%\n",
      "The F1 of Static Model = 80.48048048048048%\n"
     ]
    },
    {
     "name": "stderr",
     "output_type": "stream",
     "text": [
      "C:\\Users\\admin\\AppData\\Local\\Temp\\ipykernel_12960\\3968469003.py:41: FutureWarning: The frame.append method is deprecated and will be removed from pandas in a future version. Use pandas.concat instead.\n",
      "  performance_df = performance_df.append({\"Window\": itr, \"Dynamic F1\": D_f1, \"Static F1\": S_f1}, ignore_index=True)\n"
     ]
    },
    {
     "name": "stdout",
     "output_type": "stream",
     "text": [
      "**********\n",
      "The F1 Score of Dynamic Model without retrain = 78.714859437751%\n",
      "Retraining model on new data\n",
      "The F1 of Dynamic Model after retrain = 79.01606425702812%\n",
      "The F1 of Static Model = 78.21285140562249%\n",
      "**********\n",
      "The F1 Score of Dynamic Model without retrain = 65.16516516516516%\n",
      "Retraining model on new data\n"
     ]
    },
    {
     "name": "stderr",
     "output_type": "stream",
     "text": [
      "C:\\Users\\admin\\AppData\\Local\\Temp\\ipykernel_12960\\3968469003.py:41: FutureWarning: The frame.append method is deprecated and will be removed from pandas in a future version. Use pandas.concat instead.\n",
      "  performance_df = performance_df.append({\"Window\": itr, \"Dynamic F1\": D_f1, \"Static F1\": S_f1}, ignore_index=True)\n"
     ]
    },
    {
     "name": "stdout",
     "output_type": "stream",
     "text": [
      "The F1 of Dynamic Model after retrain = 77.37737737737737%\n",
      "The F1 of Static Model = 80.88088088088088%\n",
      "**********\n",
      "The F1 Score of Dynamic Model without retrain = 79.61847389558233%\n",
      "Retraining model on new data\n"
     ]
    },
    {
     "name": "stderr",
     "output_type": "stream",
     "text": [
      "C:\\Users\\admin\\AppData\\Local\\Temp\\ipykernel_12960\\3968469003.py:41: FutureWarning: The frame.append method is deprecated and will be removed from pandas in a future version. Use pandas.concat instead.\n",
      "  performance_df = performance_df.append({\"Window\": itr, \"Dynamic F1\": D_f1, \"Static F1\": S_f1}, ignore_index=True)\n"
     ]
    },
    {
     "name": "stdout",
     "output_type": "stream",
     "text": [
      "The F1 of Dynamic Model after retrain = 79.61847389558233%\n",
      "The F1 of Static Model = 79.11646586345381%\n",
      "**********\n"
     ]
    },
    {
     "name": "stderr",
     "output_type": "stream",
     "text": [
      "C:\\Users\\admin\\AppData\\Local\\Temp\\ipykernel_12960\\3968469003.py:41: FutureWarning: The frame.append method is deprecated and will be removed from pandas in a future version. Use pandas.concat instead.\n",
      "  performance_df = performance_df.append({\"Window\": itr, \"Dynamic F1\": D_f1, \"Static F1\": S_f1}, ignore_index=True)\n"
     ]
    },
    {
     "name": "stdout",
     "output_type": "stream",
     "text": [
      "The F1 Score of Dynamic Model without retrain = 80.6841046277666%\n",
      "Retraining model on new data\n",
      "The F1 of Dynamic Model after retrain = 80.58350100603622%\n",
      "The F1 of Static Model = 79.87927565392354%\n"
     ]
    },
    {
     "name": "stderr",
     "output_type": "stream",
     "text": [
      "C:\\Users\\admin\\AppData\\Local\\Temp\\ipykernel_12960\\3968469003.py:41: FutureWarning: The frame.append method is deprecated and will be removed from pandas in a future version. Use pandas.concat instead.\n",
      "  performance_df = performance_df.append({\"Window\": itr, \"Dynamic F1\": D_f1, \"Static F1\": S_f1}, ignore_index=True)\n"
     ]
    },
    {
     "name": "stdout",
     "output_type": "stream",
     "text": [
      "**********\n",
      "The F1 Score of Dynamic Model without retrain = 80.52208835341365%\n",
      "Retraining model on new data\n",
      "The F1 of Dynamic Model after retrain = 80.72289156626506%\n",
      "The F1 of Static Model = 79.41767068273093%\n",
      "**********\n"
     ]
    },
    {
     "name": "stderr",
     "output_type": "stream",
     "text": [
      "C:\\Users\\admin\\AppData\\Local\\Temp\\ipykernel_12960\\3968469003.py:41: FutureWarning: The frame.append method is deprecated and will be removed from pandas in a future version. Use pandas.concat instead.\n",
      "  performance_df = performance_df.append({\"Window\": itr, \"Dynamic F1\": D_f1, \"Static F1\": S_f1}, ignore_index=True)\n"
     ]
    },
    {
     "name": "stdout",
     "output_type": "stream",
     "text": [
      "The F1 Score of Dynamic Model without retrain = 80.58058058058059%\n",
      "Retraining model on new data\n",
      "The F1 of Dynamic Model after retrain = 80.48048048048048%\n",
      "The F1 of Static Model = 79.97997997997997%\n",
      "**********\n"
     ]
    },
    {
     "name": "stderr",
     "output_type": "stream",
     "text": [
      "C:\\Users\\admin\\AppData\\Local\\Temp\\ipykernel_12960\\3968469003.py:41: FutureWarning: The frame.append method is deprecated and will be removed from pandas in a future version. Use pandas.concat instead.\n",
      "  performance_df = performance_df.append({\"Window\": itr, \"Dynamic F1\": D_f1, \"Static F1\": S_f1}, ignore_index=True)\n"
     ]
    },
    {
     "name": "stdout",
     "output_type": "stream",
     "text": [
      "The F1 Score of Dynamic Model without retrain = 64.09227683049149%\n",
      "Retraining model on new data\n",
      "The F1 of Dynamic Model after retrain = 81.34403209628887%\n",
      "The F1 of Static Model = 80.84252758274825%\n",
      "**********\n"
     ]
    },
    {
     "name": "stderr",
     "output_type": "stream",
     "text": [
      "C:\\Users\\admin\\AppData\\Local\\Temp\\ipykernel_12960\\3968469003.py:41: FutureWarning: The frame.append method is deprecated and will be removed from pandas in a future version. Use pandas.concat instead.\n",
      "  performance_df = performance_df.append({\"Window\": itr, \"Dynamic F1\": D_f1, \"Static F1\": S_f1}, ignore_index=True)\n"
     ]
    },
    {
     "name": "stdout",
     "output_type": "stream",
     "text": [
      "The F1 Score of Dynamic Model without retrain = 81.88188188188188%\n",
      "Retraining model on new data\n",
      "The F1 of Dynamic Model after retrain = 82.38238238238237%\n",
      "The F1 of Static Model = 81.48148148148148%\n"
     ]
    },
    {
     "name": "stderr",
     "output_type": "stream",
     "text": [
      "C:\\Users\\admin\\AppData\\Local\\Temp\\ipykernel_12960\\3968469003.py:41: FutureWarning: The frame.append method is deprecated and will be removed from pandas in a future version. Use pandas.concat instead.\n",
      "  performance_df = performance_df.append({\"Window\": itr, \"Dynamic F1\": D_f1, \"Static F1\": S_f1}, ignore_index=True)\n"
     ]
    },
    {
     "name": "stdout",
     "output_type": "stream",
     "text": [
      "**********\n",
      "The F1 Score of Dynamic Model without retrain = 82.04613841524574%\n",
      "Retraining model on new data\n",
      "The F1 of Dynamic Model after retrain = 81.54463390170511%\n",
      "The F1 of Static Model = 81.04312938816449%\n",
      "**********\n",
      "The F1 Score of Dynamic Model without retrain = 81.56312625250501%\n",
      "Retraining model on new data\n"
     ]
    },
    {
     "name": "stderr",
     "output_type": "stream",
     "text": [
      "C:\\Users\\admin\\AppData\\Local\\Temp\\ipykernel_12960\\3968469003.py:41: FutureWarning: The frame.append method is deprecated and will be removed from pandas in a future version. Use pandas.concat instead.\n",
      "  performance_df = performance_df.append({\"Window\": itr, \"Dynamic F1\": D_f1, \"Static F1\": S_f1}, ignore_index=True)\n"
     ]
    },
    {
     "name": "stdout",
     "output_type": "stream",
     "text": [
      "The F1 of Dynamic Model after retrain = 81.86372745490982%\n",
      "The F1 of Static Model = 81.4629258517034%\n",
      "**********\n"
     ]
    },
    {
     "name": "stderr",
     "output_type": "stream",
     "text": [
      "C:\\Users\\admin\\AppData\\Local\\Temp\\ipykernel_12960\\3968469003.py:41: FutureWarning: The frame.append method is deprecated and will be removed from pandas in a future version. Use pandas.concat instead.\n",
      "  performance_df = performance_df.append({\"Window\": itr, \"Dynamic F1\": D_f1, \"Static F1\": S_f1}, ignore_index=True)\n"
     ]
    },
    {
     "name": "stdout",
     "output_type": "stream",
     "text": [
      "The F1 Score of Dynamic Model without retrain = 80.58058058058059%\n",
      "Retraining model on new data\n",
      "The F1 of Dynamic Model after retrain = 80.58058058058059%\n",
      "The F1 of Static Model = 79.57957957957959%\n"
     ]
    },
    {
     "name": "stderr",
     "output_type": "stream",
     "text": [
      "C:\\Users\\admin\\AppData\\Local\\Temp\\ipykernel_12960\\3968469003.py:41: FutureWarning: The frame.append method is deprecated and will be removed from pandas in a future version. Use pandas.concat instead.\n",
      "  performance_df = performance_df.append({\"Window\": itr, \"Dynamic F1\": D_f1, \"Static F1\": S_f1}, ignore_index=True)\n"
     ]
    },
    {
     "name": "stdout",
     "output_type": "stream",
     "text": [
      "**********\n",
      "The F1 Score of Dynamic Model without retrain = 80.18018018018019%\n",
      "Retraining model on new data\n",
      "The F1 of Dynamic Model after retrain = 80.48048048048048%\n",
      "The F1 of Static Model = 79.97997997997997%\n",
      "**********\n",
      "The F1 Score of Dynamic Model without retrain = 81.04312938816449%\n",
      "Retraining model on new data\n"
     ]
    },
    {
     "name": "stderr",
     "output_type": "stream",
     "text": [
      "C:\\Users\\admin\\AppData\\Local\\Temp\\ipykernel_12960\\3968469003.py:41: FutureWarning: The frame.append method is deprecated and will be removed from pandas in a future version. Use pandas.concat instead.\n",
      "  performance_df = performance_df.append({\"Window\": itr, \"Dynamic F1\": D_f1, \"Static F1\": S_f1}, ignore_index=True)\n"
     ]
    },
    {
     "name": "stdout",
     "output_type": "stream",
     "text": [
      "The F1 of Dynamic Model after retrain = 81.64493480441324%\n",
      "The F1 of Static Model = 81.34403209628887%\n",
      "**********\n"
     ]
    },
    {
     "name": "stderr",
     "output_type": "stream",
     "text": [
      "C:\\Users\\admin\\AppData\\Local\\Temp\\ipykernel_12960\\3968469003.py:41: FutureWarning: The frame.append method is deprecated and will be removed from pandas in a future version. Use pandas.concat instead.\n",
      "  performance_df = performance_df.append({\"Window\": itr, \"Dynamic F1\": D_f1, \"Static F1\": S_f1}, ignore_index=True)\n"
     ]
    },
    {
     "name": "stdout",
     "output_type": "stream",
     "text": [
      "The F1 Score of Dynamic Model without retrain = 81.68168168168168%\n",
      "Retraining model on new data\n",
      "The F1 of Dynamic Model after retrain = 81.48148148148148%\n",
      "The F1 of Static Model = 80.98098098098097%\n",
      "**********\n"
     ]
    },
    {
     "name": "stderr",
     "output_type": "stream",
     "text": [
      "C:\\Users\\admin\\AppData\\Local\\Temp\\ipykernel_12960\\3968469003.py:41: FutureWarning: The frame.append method is deprecated and will be removed from pandas in a future version. Use pandas.concat instead.\n",
      "  performance_df = performance_df.append({\"Window\": itr, \"Dynamic F1\": D_f1, \"Static F1\": S_f1}, ignore_index=True)\n"
     ]
    },
    {
     "name": "stdout",
     "output_type": "stream",
     "text": [
      "The F1 Score of Dynamic Model without retrain = 79.67967967967968%\n",
      "Retraining model on new data\n",
      "The F1 of Dynamic Model after retrain = 79.47947947947948%\n",
      "The F1 of Static Model = 78.97897897897897%\n"
     ]
    },
    {
     "name": "stderr",
     "output_type": "stream",
     "text": [
      "C:\\Users\\admin\\AppData\\Local\\Temp\\ipykernel_12960\\3968469003.py:41: FutureWarning: The frame.append method is deprecated and will be removed from pandas in a future version. Use pandas.concat instead.\n",
      "  performance_df = performance_df.append({\"Window\": itr, \"Dynamic F1\": D_f1, \"Static F1\": S_f1}, ignore_index=True)\n"
     ]
    },
    {
     "name": "stdout",
     "output_type": "stream",
     "text": [
      "**********\n",
      "The F1 Score of Dynamic Model without retrain = 78.5%\n",
      "Retraining model on new data\n",
      "The F1 of Dynamic Model after retrain = 78.9%\n",
      "The F1 of Static Model = 78.5%\n"
     ]
    },
    {
     "name": "stderr",
     "output_type": "stream",
     "text": [
      "C:\\Users\\admin\\AppData\\Local\\Temp\\ipykernel_12960\\3968469003.py:41: FutureWarning: The frame.append method is deprecated and will be removed from pandas in a future version. Use pandas.concat instead.\n",
      "  performance_df = performance_df.append({\"Window\": itr, \"Dynamic F1\": D_f1, \"Static F1\": S_f1}, ignore_index=True)\n"
     ]
    },
    {
     "name": "stdout",
     "output_type": "stream",
     "text": [
      "**********\n",
      "The F1 Score of Dynamic Model without retrain = 83.16633266533067%\n",
      "Retraining model on new data\n",
      "The F1 of Dynamic Model after retrain = 82.46492985971943%\n",
      "The F1 of Static Model = 82.56513026052104%\n",
      "**********\n"
     ]
    },
    {
     "name": "stderr",
     "output_type": "stream",
     "text": [
      "C:\\Users\\admin\\AppData\\Local\\Temp\\ipykernel_12960\\3968469003.py:41: FutureWarning: The frame.append method is deprecated and will be removed from pandas in a future version. Use pandas.concat instead.\n",
      "  performance_df = performance_df.append({\"Window\": itr, \"Dynamic F1\": D_f1, \"Static F1\": S_f1}, ignore_index=True)\n"
     ]
    },
    {
     "name": "stdout",
     "output_type": "stream",
     "text": [
      "The F1 Score of Dynamic Model without retrain = 82.04613841524574%\n",
      "Retraining model on new data\n",
      "The F1 of Dynamic Model after retrain = 81.14343029087262%\n",
      "The F1 of Static Model = 81.64493480441324%\n",
      "**********\n"
     ]
    },
    {
     "name": "stderr",
     "output_type": "stream",
     "text": [
      "C:\\Users\\admin\\AppData\\Local\\Temp\\ipykernel_12960\\3968469003.py:41: FutureWarning: The frame.append method is deprecated and will be removed from pandas in a future version. Use pandas.concat instead.\n",
      "  performance_df = performance_df.append({\"Window\": itr, \"Dynamic F1\": D_f1, \"Static F1\": S_f1}, ignore_index=True)\n"
     ]
    },
    {
     "name": "stdout",
     "output_type": "stream",
     "text": [
      "The F1 Score of Dynamic Model without retrain = 80.10000000000001%\n",
      "Retraining model on new data\n",
      "The F1 of Dynamic Model after retrain = 79.60000000000001%\n",
      "The F1 of Static Model = 79.7%\n",
      "**********\n"
     ]
    },
    {
     "name": "stderr",
     "output_type": "stream",
     "text": [
      "C:\\Users\\admin\\AppData\\Local\\Temp\\ipykernel_12960\\3968469003.py:41: FutureWarning: The frame.append method is deprecated and will be removed from pandas in a future version. Use pandas.concat instead.\n",
      "  performance_df = performance_df.append({\"Window\": itr, \"Dynamic F1\": D_f1, \"Static F1\": S_f1}, ignore_index=True)\n"
     ]
    },
    {
     "name": "stdout",
     "output_type": "stream",
     "text": [
      "The F1 Score of Dynamic Model without retrain = 80.58058058058059%\n",
      "Retraining model on new data\n",
      "The F1 of Dynamic Model after retrain = 81.68168168168168%\n",
      "The F1 of Static Model = 81.68168168168168%\n"
     ]
    },
    {
     "name": "stderr",
     "output_type": "stream",
     "text": [
      "C:\\Users\\admin\\AppData\\Local\\Temp\\ipykernel_12960\\3968469003.py:41: FutureWarning: The frame.append method is deprecated and will be removed from pandas in a future version. Use pandas.concat instead.\n",
      "  performance_df = performance_df.append({\"Window\": itr, \"Dynamic F1\": D_f1, \"Static F1\": S_f1}, ignore_index=True)\n"
     ]
    },
    {
     "name": "stdout",
     "output_type": "stream",
     "text": [
      "**********\n",
      "The F1 Score of Dynamic Model without retrain = 80.18018018018019%\n",
      "Retraining model on new data\n",
      "The F1 of Dynamic Model after retrain = 77.77777777777779%\n",
      "The F1 of Static Model = 79.47947947947948%\n",
      "**********"
     ]
    },
    {
     "name": "stderr",
     "output_type": "stream",
     "text": [
      "C:\\Users\\admin\\AppData\\Local\\Temp\\ipykernel_12960\\3968469003.py:41: FutureWarning: The frame.append method is deprecated and will be removed from pandas in a future version. Use pandas.concat instead.\n",
      "  performance_df = performance_df.append({\"Window\": itr, \"Dynamic F1\": D_f1, \"Static F1\": S_f1}, ignore_index=True)\n"
     ]
    },
    {
     "name": "stdout",
     "output_type": "stream",
     "text": [
      "\n",
      "The F1 Score of Dynamic Model without retrain = 80.44132397191575%\n",
      "Retraining model on new data\n",
      "The F1 of Dynamic Model after retrain = 80.34102306920762%\n",
      "The F1 of Static Model = 79.73921765295887%\n",
      "**********\n"
     ]
    },
    {
     "name": "stderr",
     "output_type": "stream",
     "text": [
      "C:\\Users\\admin\\AppData\\Local\\Temp\\ipykernel_12960\\3968469003.py:41: FutureWarning: The frame.append method is deprecated and will be removed from pandas in a future version. Use pandas.concat instead.\n",
      "  performance_df = performance_df.append({\"Window\": itr, \"Dynamic F1\": D_f1, \"Static F1\": S_f1}, ignore_index=True)\n"
     ]
    },
    {
     "name": "stdout",
     "output_type": "stream",
     "text": [
      "The F1 Score of Dynamic Model without retrain = 81.02409638554217%\n",
      "Retraining model on new data\n",
      "The F1 of Dynamic Model after retrain = 80.02008032128514%\n",
      "The F1 of Static Model = 80.92369477911646%\n",
      "**********\n"
     ]
    },
    {
     "name": "stderr",
     "output_type": "stream",
     "text": [
      "C:\\Users\\admin\\AppData\\Local\\Temp\\ipykernel_12960\\3968469003.py:41: FutureWarning: The frame.append method is deprecated and will be removed from pandas in a future version. Use pandas.concat instead.\n",
      "  performance_df = performance_df.append({\"Window\": itr, \"Dynamic F1\": D_f1, \"Static F1\": S_f1}, ignore_index=True)\n"
     ]
    },
    {
     "name": "stdout",
     "output_type": "stream",
     "text": [
      "The F1 Score of Dynamic Model without retrain = 78.47847847847848%\n",
      "Retraining model on new data\n",
      "The F1 of Dynamic Model after retrain = 79.77977977977979%\n",
      "The F1 of Static Model = 81.38138138138137%\n",
      "**********\n"
     ]
    },
    {
     "name": "stderr",
     "output_type": "stream",
     "text": [
      "C:\\Users\\admin\\AppData\\Local\\Temp\\ipykernel_12960\\3968469003.py:41: FutureWarning: The frame.append method is deprecated and will be removed from pandas in a future version. Use pandas.concat instead.\n",
      "  performance_df = performance_df.append({\"Window\": itr, \"Dynamic F1\": D_f1, \"Static F1\": S_f1}, ignore_index=True)\n"
     ]
    },
    {
     "name": "stdout",
     "output_type": "stream",
     "text": [
      "The F1 Score of Dynamic Model without retrain = 80.48048048048048%\n",
      "Retraining model on new data\n",
      "The F1 of Dynamic Model after retrain = 80.88088088088088%\n",
      "The F1 of Static Model = 79.97997997997997%\n",
      "**********\n"
     ]
    },
    {
     "name": "stderr",
     "output_type": "stream",
     "text": [
      "C:\\Users\\admin\\AppData\\Local\\Temp\\ipykernel_12960\\3968469003.py:41: FutureWarning: The frame.append method is deprecated and will be removed from pandas in a future version. Use pandas.concat instead.\n",
      "  performance_df = performance_df.append({\"Window\": itr, \"Dynamic F1\": D_f1, \"Static F1\": S_f1}, ignore_index=True)\n"
     ]
    },
    {
     "name": "stdout",
     "output_type": "stream",
     "text": [
      "The F1 Score of Dynamic Model without retrain = 81.2%\n",
      "Retraining model on new data\n",
      "The F1 of Dynamic Model after retrain = 81.2%\n",
      "The F1 of Static Model = 80.60000000000001%\n",
      "**********\n"
     ]
    },
    {
     "name": "stderr",
     "output_type": "stream",
     "text": [
      "C:\\Users\\admin\\AppData\\Local\\Temp\\ipykernel_12960\\3968469003.py:41: FutureWarning: The frame.append method is deprecated and will be removed from pandas in a future version. Use pandas.concat instead.\n",
      "  performance_df = performance_df.append({\"Window\": itr, \"Dynamic F1\": D_f1, \"Static F1\": S_f1}, ignore_index=True)\n"
     ]
    },
    {
     "name": "stdout",
     "output_type": "stream",
     "text": [
      "The F1 Score of Dynamic Model without retrain = 82.08208208208208%\n",
      "Retraining model on new data\n",
      "The F1 of Dynamic Model after retrain = 81.38138138138137%\n",
      "The F1 of Static Model = 80.88088088088088%\n",
      "**********\n"
     ]
    },
    {
     "name": "stderr",
     "output_type": "stream",
     "text": [
      "C:\\Users\\admin\\AppData\\Local\\Temp\\ipykernel_12960\\3968469003.py:41: FutureWarning: The frame.append method is deprecated and will be removed from pandas in a future version. Use pandas.concat instead.\n",
      "  performance_df = performance_df.append({\"Window\": itr, \"Dynamic F1\": D_f1, \"Static F1\": S_f1}, ignore_index=True)\n"
     ]
    },
    {
     "name": "stdout",
     "output_type": "stream",
     "text": [
      "The F1 Score of Dynamic Model without retrain = 80.38038038038037%\n",
      "Retraining model on new data\n",
      "The F1 of Dynamic Model after retrain = 80.58058058058059%\n",
      "The F1 of Static Model = 80.08008008008008%\n",
      "**********\n"
     ]
    },
    {
     "name": "stderr",
     "output_type": "stream",
     "text": [
      "C:\\Users\\admin\\AppData\\Local\\Temp\\ipykernel_12960\\3968469003.py:41: FutureWarning: The frame.append method is deprecated and will be removed from pandas in a future version. Use pandas.concat instead.\n",
      "  performance_df = performance_df.append({\"Window\": itr, \"Dynamic F1\": D_f1, \"Static F1\": S_f1}, ignore_index=True)\n"
     ]
    },
    {
     "name": "stdout",
     "output_type": "stream",
     "text": [
      "The F1 Score of Dynamic Model without retrain = 79.53861584754263%\n",
      "Retraining model on new data\n",
      "The F1 of Dynamic Model after retrain = 79.73921765295887%\n",
      "The F1 of Static Model = 78.93681043129388%\n",
      "**********\n"
     ]
    },
    {
     "name": "stderr",
     "output_type": "stream",
     "text": [
      "C:\\Users\\admin\\AppData\\Local\\Temp\\ipykernel_12960\\3968469003.py:41: FutureWarning: The frame.append method is deprecated and will be removed from pandas in a future version. Use pandas.concat instead.\n",
      "  performance_df = performance_df.append({\"Window\": itr, \"Dynamic F1\": D_f1, \"Static F1\": S_f1}, ignore_index=True)\n"
     ]
    },
    {
     "name": "stdout",
     "output_type": "stream",
     "text": [
      "The F1 Score of Dynamic Model without retrain = 78.7%\n",
      "Retraining model on new data\n",
      "The F1 of Dynamic Model after retrain = 78.60000000000001%\n",
      "The F1 of Static Model = 78.3%\n",
      "**********\n",
      "The F1 Score of Dynamic Model without retrain = 81.64493480441324%\n",
      "Retraining model on new data\n"
     ]
    },
    {
     "name": "stderr",
     "output_type": "stream",
     "text": [
      "C:\\Users\\admin\\AppData\\Local\\Temp\\ipykernel_12960\\3968469003.py:41: FutureWarning: The frame.append method is deprecated and will be removed from pandas in a future version. Use pandas.concat instead.\n",
      "  performance_df = performance_df.append({\"Window\": itr, \"Dynamic F1\": D_f1, \"Static F1\": S_f1}, ignore_index=True)\n"
     ]
    },
    {
     "name": "stdout",
     "output_type": "stream",
     "text": [
      "The F1 of Dynamic Model after retrain = 82.14643931795386%\n",
      "The F1 of Static Model = 82.34704112337012%\n",
      "**********\n",
      "The F1 Score of Dynamic Model without retrain = 79.47947947947948%\n",
      "Retraining model on new data\n"
     ]
    },
    {
     "name": "stderr",
     "output_type": "stream",
     "text": [
      "C:\\Users\\admin\\AppData\\Local\\Temp\\ipykernel_12960\\3968469003.py:41: FutureWarning: The frame.append method is deprecated and will be removed from pandas in a future version. Use pandas.concat instead.\n",
      "  performance_df = performance_df.append({\"Window\": itr, \"Dynamic F1\": D_f1, \"Static F1\": S_f1}, ignore_index=True)\n"
     ]
    },
    {
     "name": "stdout",
     "output_type": "stream",
     "text": [
      "The F1 of Dynamic Model after retrain = 81.28128128128128%\n",
      "The F1 of Static Model = 80.38038038038037%\n",
      "**********\n",
      "The F1 Score of Dynamic Model without retrain = 81.48148148148148%\n",
      "Retraining model on new data\n"
     ]
    },
    {
     "name": "stderr",
     "output_type": "stream",
     "text": [
      "C:\\Users\\admin\\AppData\\Local\\Temp\\ipykernel_12960\\3968469003.py:41: FutureWarning: The frame.append method is deprecated and will be removed from pandas in a future version. Use pandas.concat instead.\n",
      "  performance_df = performance_df.append({\"Window\": itr, \"Dynamic F1\": D_f1, \"Static F1\": S_f1}, ignore_index=True)\n"
     ]
    },
    {
     "name": "stdout",
     "output_type": "stream",
     "text": [
      "The F1 of Dynamic Model after retrain = 81.08108108108108%\n",
      "The F1 of Static Model = 80.88088088088088%\n",
      "**********\n",
      "The F1 Score of Dynamic Model without retrain = 79.77977977977979%\n",
      "Retraining model on new data\n"
     ]
    },
    {
     "name": "stderr",
     "output_type": "stream",
     "text": [
      "C:\\Users\\admin\\AppData\\Local\\Temp\\ipykernel_12960\\3968469003.py:41: FutureWarning: The frame.append method is deprecated and will be removed from pandas in a future version. Use pandas.concat instead.\n",
      "  performance_df = performance_df.append({\"Window\": itr, \"Dynamic F1\": D_f1, \"Static F1\": S_f1}, ignore_index=True)\n"
     ]
    },
    {
     "name": "stdout",
     "output_type": "stream",
     "text": [
      "The F1 of Dynamic Model after retrain = 80.28028028028028%\n",
      "The F1 of Static Model = 79.87987987987988%\n",
      "**********\n",
      "The F1 Score of Dynamic Model without retrain = 83.03212851405623%\n",
      "Retraining model on new data\n"
     ]
    },
    {
     "name": "stderr",
     "output_type": "stream",
     "text": [
      "C:\\Users\\admin\\AppData\\Local\\Temp\\ipykernel_12960\\3968469003.py:41: FutureWarning: The frame.append method is deprecated and will be removed from pandas in a future version. Use pandas.concat instead.\n",
      "  performance_df = performance_df.append({\"Window\": itr, \"Dynamic F1\": D_f1, \"Static F1\": S_f1}, ignore_index=True)\n"
     ]
    },
    {
     "name": "stdout",
     "output_type": "stream",
     "text": [
      "The F1 of Dynamic Model after retrain = 82.53012048192771%\n",
      "The F1 of Static Model = 82.2289156626506%\n",
      "**********\n"
     ]
    },
    {
     "name": "stderr",
     "output_type": "stream",
     "text": [
      "C:\\Users\\admin\\AppData\\Local\\Temp\\ipykernel_12960\\3968469003.py:41: FutureWarning: The frame.append method is deprecated and will be removed from pandas in a future version. Use pandas.concat instead.\n",
      "  performance_df = performance_df.append({\"Window\": itr, \"Dynamic F1\": D_f1, \"Static F1\": S_f1}, ignore_index=True)\n"
     ]
    },
    {
     "name": "stdout",
     "output_type": "stream",
     "text": [
      "The F1 Score of Dynamic Model without retrain = 79.47947947947948%\n",
      "Retraining model on new data\n",
      "The F1 of Dynamic Model after retrain = 80.78078078078079%\n",
      "The F1 of Static Model = 80.08008008008008%\n"
     ]
    },
    {
     "name": "stderr",
     "output_type": "stream",
     "text": [
      "C:\\Users\\admin\\AppData\\Local\\Temp\\ipykernel_12960\\3968469003.py:41: FutureWarning: The frame.append method is deprecated and will be removed from pandas in a future version. Use pandas.concat instead.\n",
      "  performance_df = performance_df.append({\"Window\": itr, \"Dynamic F1\": D_f1, \"Static F1\": S_f1}, ignore_index=True)\n"
     ]
    },
    {
     "name": "stdout",
     "output_type": "stream",
     "text": [
      "**********\n",
      "The F1 Score of Dynamic Model without retrain = 80.64192577733199%\n",
      "Retraining model on new data\n",
      "The F1 of Dynamic Model after retrain = 79.53861584754263%\n",
      "The F1 of Static Model = 79.63891675025076%\n"
     ]
    },
    {
     "name": "stderr",
     "output_type": "stream",
     "text": [
      "C:\\Users\\admin\\AppData\\Local\\Temp\\ipykernel_12960\\3968469003.py:41: FutureWarning: The frame.append method is deprecated and will be removed from pandas in a future version. Use pandas.concat instead.\n",
      "  performance_df = performance_df.append({\"Window\": itr, \"Dynamic F1\": D_f1, \"Static F1\": S_f1}, ignore_index=True)\n"
     ]
    },
    {
     "name": "stdout",
     "output_type": "stream",
     "text": [
      "**********\n",
      "The F1 Score of Dynamic Model without retrain = 80.56112224448898%\n",
      "Retraining model on new data\n",
      "The F1 of Dynamic Model after retrain = 48.49699398797595%\n",
      "The F1 of Static Model = 80.36072144288578%\n",
      "**********\n"
     ]
    },
    {
     "name": "stderr",
     "output_type": "stream",
     "text": [
      "C:\\Users\\admin\\AppData\\Local\\Temp\\ipykernel_12960\\3968469003.py:41: FutureWarning: The frame.append method is deprecated and will be removed from pandas in a future version. Use pandas.concat instead.\n",
      "  performance_df = performance_df.append({\"Window\": itr, \"Dynamic F1\": D_f1, \"Static F1\": S_f1}, ignore_index=True)\n"
     ]
    },
    {
     "name": "stdout",
     "output_type": "stream",
     "text": [
      "The F1 Score of Dynamic Model without retrain = 59.4188376753507%\n",
      "Retraining model on new data\n",
      "The F1 of Dynamic Model after retrain = 80.36072144288578%\n",
      "The F1 of Static Model = 79.95991983967936%\n",
      "**********\n"
     ]
    },
    {
     "name": "stderr",
     "output_type": "stream",
     "text": [
      "C:\\Users\\admin\\AppData\\Local\\Temp\\ipykernel_12960\\3968469003.py:41: FutureWarning: The frame.append method is deprecated and will be removed from pandas in a future version. Use pandas.concat instead.\n",
      "  performance_df = performance_df.append({\"Window\": itr, \"Dynamic F1\": D_f1, \"Static F1\": S_f1}, ignore_index=True)\n"
     ]
    },
    {
     "name": "stdout",
     "output_type": "stream",
     "text": [
      "The F1 Score of Dynamic Model without retrain = 80.98098098098097%\n",
      "Retraining model on new data\n",
      "The F1 of Dynamic Model after retrain = 81.08108108108108%\n",
      "The F1 of Static Model = 80.68068068068068%\n",
      "**********\n"
     ]
    },
    {
     "name": "stderr",
     "output_type": "stream",
     "text": [
      "C:\\Users\\admin\\AppData\\Local\\Temp\\ipykernel_12960\\3968469003.py:41: FutureWarning: The frame.append method is deprecated and will be removed from pandas in a future version. Use pandas.concat instead.\n",
      "  performance_df = performance_df.append({\"Window\": itr, \"Dynamic F1\": D_f1, \"Static F1\": S_f1}, ignore_index=True)\n"
     ]
    },
    {
     "name": "stdout",
     "output_type": "stream",
     "text": [
      "The F1 Score of Dynamic Model without retrain = 80.16032064128257%\n",
      "Retraining model on new data\n",
      "The F1 of Dynamic Model after retrain = 81.2625250501002%\n",
      "The F1 of Static Model = 80.7615230460922%\n",
      "**********\n"
     ]
    },
    {
     "name": "stderr",
     "output_type": "stream",
     "text": [
      "C:\\Users\\admin\\AppData\\Local\\Temp\\ipykernel_12960\\3968469003.py:41: FutureWarning: The frame.append method is deprecated and will be removed from pandas in a future version. Use pandas.concat instead.\n",
      "  performance_df = performance_df.append({\"Window\": itr, \"Dynamic F1\": D_f1, \"Static F1\": S_f1}, ignore_index=True)\n"
     ]
    },
    {
     "name": "stdout",
     "output_type": "stream",
     "text": [
      "The F1 Score of Dynamic Model without retrain = 80.46092184368737%\n",
      "Retraining model on new data\n",
      "The F1 of Dynamic Model after retrain = 80.56112224448898%\n",
      "The F1 of Static Model = 79.75951903807615%\n",
      "**********\n"
     ]
    },
    {
     "name": "stderr",
     "output_type": "stream",
     "text": [
      "C:\\Users\\admin\\AppData\\Local\\Temp\\ipykernel_12960\\3968469003.py:41: FutureWarning: The frame.append method is deprecated and will be removed from pandas in a future version. Use pandas.concat instead.\n",
      "  performance_df = performance_df.append({\"Window\": itr, \"Dynamic F1\": D_f1, \"Static F1\": S_f1}, ignore_index=True)\n"
     ]
    },
    {
     "name": "stdout",
     "output_type": "stream",
     "text": [
      "The F1 Score of Dynamic Model without retrain = 80.34102306920762%\n",
      "Retraining model on new data\n",
      "The F1 of Dynamic Model after retrain = 79.53861584754263%\n",
      "The F1 of Static Model = 79.93981945837513%\n",
      "**********\n"
     ]
    },
    {
     "name": "stderr",
     "output_type": "stream",
     "text": [
      "C:\\Users\\admin\\AppData\\Local\\Temp\\ipykernel_12960\\3968469003.py:41: FutureWarning: The frame.append method is deprecated and will be removed from pandas in a future version. Use pandas.concat instead.\n",
      "  performance_df = performance_df.append({\"Window\": itr, \"Dynamic F1\": D_f1, \"Static F1\": S_f1}, ignore_index=True)\n"
     ]
    },
    {
     "name": "stdout",
     "output_type": "stream",
     "text": [
      "The F1 Score of Dynamic Model without retrain = 81.24373119358074%\n",
      "Retraining model on new data\n",
      "The F1 of Dynamic Model after retrain = 80.94282848545636%\n",
      "The F1 of Static Model = 80.64192577733199%\n",
      "**********\n"
     ]
    },
    {
     "name": "stderr",
     "output_type": "stream",
     "text": [
      "C:\\Users\\admin\\AppData\\Local\\Temp\\ipykernel_12960\\3968469003.py:41: FutureWarning: The frame.append method is deprecated and will be removed from pandas in a future version. Use pandas.concat instead.\n",
      "  performance_df = performance_df.append({\"Window\": itr, \"Dynamic F1\": D_f1, \"Static F1\": S_f1}, ignore_index=True)\n"
     ]
    },
    {
     "name": "stdout",
     "output_type": "stream",
     "text": [
      "The F1 Score of Dynamic Model without retrain = 80.7%\n",
      "Retraining model on new data\n",
      "The F1 of Dynamic Model after retrain = 80.30000000000001%\n",
      "The F1 of Static Model = 79.4%\n",
      "**********\n"
     ]
    },
    {
     "name": "stderr",
     "output_type": "stream",
     "text": [
      "C:\\Users\\admin\\AppData\\Local\\Temp\\ipykernel_12960\\3968469003.py:41: FutureWarning: The frame.append method is deprecated and will be removed from pandas in a future version. Use pandas.concat instead.\n",
      "  performance_df = performance_df.append({\"Window\": itr, \"Dynamic F1\": D_f1, \"Static F1\": S_f1}, ignore_index=True)\n"
     ]
    },
    {
     "name": "stdout",
     "output_type": "stream",
     "text": [
      "The F1 Score of Dynamic Model without retrain = 83.63453815261043%\n",
      "Retraining model on new data\n",
      "The F1 of Dynamic Model after retrain = 83.43373493975903%\n",
      "The F1 of Static Model = 82.32931726907631%\n",
      "**********\n",
      "The F1 Score of Dynamic Model without retrain = 79.5%\n",
      "Retraining model on new data\n"
     ]
    },
    {
     "name": "stderr",
     "output_type": "stream",
     "text": [
      "C:\\Users\\admin\\AppData\\Local\\Temp\\ipykernel_12960\\3968469003.py:41: FutureWarning: The frame.append method is deprecated and will be removed from pandas in a future version. Use pandas.concat instead.\n",
      "  performance_df = performance_df.append({\"Window\": itr, \"Dynamic F1\": D_f1, \"Static F1\": S_f1}, ignore_index=True)\n"
     ]
    },
    {
     "name": "stdout",
     "output_type": "stream",
     "text": [
      "The F1 of Dynamic Model after retrain = 79.60000000000001%\n",
      "The F1 of Static Model = 80.0%\n",
      "**********\n",
      "The F1 Score of Dynamic Model without retrain = 81.14343029087262%\n",
      "Retraining model on new data\n"
     ]
    },
    {
     "name": "stderr",
     "output_type": "stream",
     "text": [
      "C:\\Users\\admin\\AppData\\Local\\Temp\\ipykernel_12960\\3968469003.py:41: FutureWarning: The frame.append method is deprecated and will be removed from pandas in a future version. Use pandas.concat instead.\n",
      "  performance_df = performance_df.append({\"Window\": itr, \"Dynamic F1\": D_f1, \"Static F1\": S_f1}, ignore_index=True)\n"
     ]
    },
    {
     "name": "stdout",
     "output_type": "stream",
     "text": [
      "The F1 of Dynamic Model after retrain = 81.14343029087262%\n",
      "The F1 of Static Model = 80.74222668004012%\n",
      "**********\n"
     ]
    },
    {
     "name": "stderr",
     "output_type": "stream",
     "text": [
      "C:\\Users\\admin\\AppData\\Local\\Temp\\ipykernel_12960\\3968469003.py:41: FutureWarning: The frame.append method is deprecated and will be removed from pandas in a future version. Use pandas.concat instead.\n",
      "  performance_df = performance_df.append({\"Window\": itr, \"Dynamic F1\": D_f1, \"Static F1\": S_f1}, ignore_index=True)\n"
     ]
    },
    {
     "name": "stdout",
     "output_type": "stream",
     "text": [
      "The F1 Score of Dynamic Model without retrain = 80.2%\n",
      "Retraining model on new data\n",
      "The F1 of Dynamic Model after retrain = 80.4%\n",
      "The F1 of Static Model = 79.80000000000001%\n",
      "**********\n"
     ]
    },
    {
     "name": "stderr",
     "output_type": "stream",
     "text": [
      "C:\\Users\\admin\\AppData\\Local\\Temp\\ipykernel_12960\\3968469003.py:41: FutureWarning: The frame.append method is deprecated and will be removed from pandas in a future version. Use pandas.concat instead.\n",
      "  performance_df = performance_df.append({\"Window\": itr, \"Dynamic F1\": D_f1, \"Static F1\": S_f1}, ignore_index=True)\n"
     ]
    },
    {
     "name": "stdout",
     "output_type": "stream",
     "text": [
      "The F1 Score of Dynamic Model without retrain = 80.7615230460922%\n",
      "Retraining model on new data\n",
      "The F1 of Dynamic Model after retrain = 79.05811623246493%\n",
      "The F1 of Static Model = 80.16032064128257%\n",
      "**********\n"
     ]
    },
    {
     "name": "stderr",
     "output_type": "stream",
     "text": [
      "C:\\Users\\admin\\AppData\\Local\\Temp\\ipykernel_12960\\3968469003.py:41: FutureWarning: The frame.append method is deprecated and will be removed from pandas in a future version. Use pandas.concat instead.\n",
      "  performance_df = performance_df.append({\"Window\": itr, \"Dynamic F1\": D_f1, \"Static F1\": S_f1}, ignore_index=True)\n"
     ]
    },
    {
     "name": "stdout",
     "output_type": "stream",
     "text": [
      "The F1 Score of Dynamic Model without retrain = 81.3627254509018%\n",
      "Retraining model on new data\n",
      "The F1 of Dynamic Model after retrain = 81.1623246492986%\n",
      "The F1 of Static Model = 80.86172344689379%\n",
      "**********\n"
     ]
    },
    {
     "name": "stderr",
     "output_type": "stream",
     "text": [
      "C:\\Users\\admin\\AppData\\Local\\Temp\\ipykernel_12960\\3968469003.py:41: FutureWarning: The frame.append method is deprecated and will be removed from pandas in a future version. Use pandas.concat instead.\n",
      "  performance_df = performance_df.append({\"Window\": itr, \"Dynamic F1\": D_f1, \"Static F1\": S_f1}, ignore_index=True)\n"
     ]
    },
    {
     "name": "stdout",
     "output_type": "stream",
     "text": [
      "The F1 Score of Dynamic Model without retrain = 80.40201005025126%\n",
      "Retraining model on new data\n",
      "The F1 of Dynamic Model after retrain = 80.40201005025126%\n",
      "The F1 of Static Model = 80.0%\n",
      "**********\n"
     ]
    },
    {
     "name": "stderr",
     "output_type": "stream",
     "text": [
      "C:\\Users\\admin\\AppData\\Local\\Temp\\ipykernel_12960\\3968469003.py:41: FutureWarning: The frame.append method is deprecated and will be removed from pandas in a future version. Use pandas.concat instead.\n",
      "  performance_df = performance_df.append({\"Window\": itr, \"Dynamic F1\": D_f1, \"Static F1\": S_f1}, ignore_index=True)\n"
     ]
    },
    {
     "name": "stdout",
     "output_type": "stream",
     "text": [
      "The F1 Score of Dynamic Model without retrain = 79.55911823647295%\n",
      "Retraining model on new data\n",
      "The F1 of Dynamic Model after retrain = 78.4569138276553%\n",
      "The F1 of Static Model = 78.75751503006012%\n"
     ]
    },
    {
     "name": "stderr",
     "output_type": "stream",
     "text": [
      "C:\\Users\\admin\\AppData\\Local\\Temp\\ipykernel_12960\\3968469003.py:41: FutureWarning: The frame.append method is deprecated and will be removed from pandas in a future version. Use pandas.concat instead.\n",
      "  performance_df = performance_df.append({\"Window\": itr, \"Dynamic F1\": D_f1, \"Static F1\": S_f1}, ignore_index=True)\n"
     ]
    },
    {
     "name": "stdout",
     "output_type": "stream",
     "text": [
      "**********\n",
      "The F1 Score of Dynamic Model without retrain = 80.10000000000001%\n",
      "Retraining model on new data\n",
      "The F1 of Dynamic Model after retrain = 64.60000000000001%\n",
      "The F1 of Static Model = 79.9%\n",
      "**********\n"
     ]
    },
    {
     "name": "stderr",
     "output_type": "stream",
     "text": [
      "C:\\Users\\admin\\AppData\\Local\\Temp\\ipykernel_12960\\3968469003.py:41: FutureWarning: The frame.append method is deprecated and will be removed from pandas in a future version. Use pandas.concat instead.\n",
      "  performance_df = performance_df.append({\"Window\": itr, \"Dynamic F1\": D_f1, \"Static F1\": S_f1}, ignore_index=True)\n"
     ]
    },
    {
     "name": "stdout",
     "output_type": "stream",
     "text": [
      "The F1 Score of Dynamic Model without retrain = 63.263263263263255%\n",
      "Retraining model on new data\n",
      "The F1 of Dynamic Model after retrain = 80.08008008008008%\n",
      "The F1 of Static Model = 78.77877877877879%\n",
      "**********\n"
     ]
    },
    {
     "name": "stderr",
     "output_type": "stream",
     "text": [
      "C:\\Users\\admin\\AppData\\Local\\Temp\\ipykernel_12960\\3968469003.py:41: FutureWarning: The frame.append method is deprecated and will be removed from pandas in a future version. Use pandas.concat instead.\n",
      "  performance_df = performance_df.append({\"Window\": itr, \"Dynamic F1\": D_f1, \"Static F1\": S_f1}, ignore_index=True)\n"
     ]
    },
    {
     "name": "stdout",
     "output_type": "stream",
     "text": [
      "The F1 Score of Dynamic Model without retrain = 84.58458458458459%\n",
      "Retraining model on new data\n",
      "The F1 of Dynamic Model after retrain = 81.78178178178179%\n",
      "The F1 of Static Model = 83.28328328328328%\n",
      "**********\n"
     ]
    },
    {
     "name": "stderr",
     "output_type": "stream",
     "text": [
      "C:\\Users\\admin\\AppData\\Local\\Temp\\ipykernel_12960\\3968469003.py:41: FutureWarning: The frame.append method is deprecated and will be removed from pandas in a future version. Use pandas.concat instead.\n",
      "  performance_df = performance_df.append({\"Window\": itr, \"Dynamic F1\": D_f1, \"Static F1\": S_f1}, ignore_index=True)\n"
     ]
    },
    {
     "name": "stdout",
     "output_type": "stream",
     "text": [
      "The F1 Score of Dynamic Model without retrain = 81.82730923694778%\n",
      "Retraining model on new data\n",
      "The F1 of Dynamic Model after retrain = 83.23293172690764%\n",
      "The F1 of Static Model = 82.1285140562249%\n",
      "**********\n"
     ]
    },
    {
     "name": "stderr",
     "output_type": "stream",
     "text": [
      "C:\\Users\\admin\\AppData\\Local\\Temp\\ipykernel_12960\\3968469003.py:41: FutureWarning: The frame.append method is deprecated and will be removed from pandas in a future version. Use pandas.concat instead.\n",
      "  performance_df = performance_df.append({\"Window\": itr, \"Dynamic F1\": D_f1, \"Static F1\": S_f1}, ignore_index=True)\n"
     ]
    },
    {
     "name": "stdout",
     "output_type": "stream",
     "text": [
      "The F1 Score of Dynamic Model without retrain = 81.2625250501002%\n",
      "Retraining model on new data\n",
      "The F1 of Dynamic Model after retrain = 81.06212424849699%\n",
      "The F1 of Static Model = 80.46092184368737%\n",
      "**********\n"
     ]
    },
    {
     "name": "stderr",
     "output_type": "stream",
     "text": [
      "C:\\Users\\admin\\AppData\\Local\\Temp\\ipykernel_12960\\3968469003.py:41: FutureWarning: The frame.append method is deprecated and will be removed from pandas in a future version. Use pandas.concat instead.\n",
      "  performance_df = performance_df.append({\"Window\": itr, \"Dynamic F1\": D_f1, \"Static F1\": S_f1}, ignore_index=True)\n"
     ]
    },
    {
     "name": "stdout",
     "output_type": "stream",
     "text": [
      "The F1 Score of Dynamic Model without retrain = 79.37937937937937%\n",
      "Retraining model on new data\n",
      "The F1 of Dynamic Model after retrain = 79.77977977977979%\n",
      "The F1 of Static Model = 79.17917917917919%\n",
      "**********\n"
     ]
    },
    {
     "name": "stderr",
     "output_type": "stream",
     "text": [
      "C:\\Users\\admin\\AppData\\Local\\Temp\\ipykernel_12960\\3968469003.py:41: FutureWarning: The frame.append method is deprecated and will be removed from pandas in a future version. Use pandas.concat instead.\n",
      "  performance_df = performance_df.append({\"Window\": itr, \"Dynamic F1\": D_f1, \"Static F1\": S_f1}, ignore_index=True)\n"
     ]
    },
    {
     "name": "stdout",
     "output_type": "stream",
     "text": [
      "The F1 Score of Dynamic Model without retrain = 80.86172344689379%\n",
      "Retraining model on new data\n",
      "The F1 of Dynamic Model after retrain = 80.66132264529058%\n",
      "The F1 of Static Model = 80.26052104208416%\n",
      "**********\n"
     ]
    },
    {
     "name": "stderr",
     "output_type": "stream",
     "text": [
      "C:\\Users\\admin\\AppData\\Local\\Temp\\ipykernel_12960\\3968469003.py:41: FutureWarning: The frame.append method is deprecated and will be removed from pandas in a future version. Use pandas.concat instead.\n",
      "  performance_df = performance_df.append({\"Window\": itr, \"Dynamic F1\": D_f1, \"Static F1\": S_f1}, ignore_index=True)\n"
     ]
    },
    {
     "name": "stdout",
     "output_type": "stream",
     "text": [
      "The F1 Score of Dynamic Model without retrain = 81.76352705410822%\n",
      "Retraining model on new data\n",
      "The F1 of Dynamic Model after retrain = 81.1623246492986%\n",
      "The F1 of Static Model = 81.3627254509018%\n",
      "**********\n"
     ]
    },
    {
     "name": "stderr",
     "output_type": "stream",
     "text": [
      "C:\\Users\\admin\\AppData\\Local\\Temp\\ipykernel_12960\\3968469003.py:41: FutureWarning: The frame.append method is deprecated and will be removed from pandas in a future version. Use pandas.concat instead.\n",
      "  performance_df = performance_df.append({\"Window\": itr, \"Dynamic F1\": D_f1, \"Static F1\": S_f1}, ignore_index=True)\n"
     ]
    },
    {
     "name": "stdout",
     "output_type": "stream",
     "text": [
      "The F1 Score of Dynamic Model without retrain = 78.79396984924622%\n",
      "Retraining model on new data\n",
      "The F1 of Dynamic Model after retrain = 80.30150753768844%\n",
      "The F1 of Static Model = 79.69849246231155%\n",
      "**********\n"
     ]
    },
    {
     "name": "stderr",
     "output_type": "stream",
     "text": [
      "C:\\Users\\admin\\AppData\\Local\\Temp\\ipykernel_12960\\3968469003.py:41: FutureWarning: The frame.append method is deprecated and will be removed from pandas in a future version. Use pandas.concat instead.\n",
      "  performance_df = performance_df.append({\"Window\": itr, \"Dynamic F1\": D_f1, \"Static F1\": S_f1}, ignore_index=True)\n"
     ]
    },
    {
     "name": "stdout",
     "output_type": "stream",
     "text": [
      "The F1 Score of Dynamic Model without retrain = 74.42326980942828%\n",
      "Retraining model on new data\n",
      "The F1 of Dynamic Model after retrain = 79.73921765295887%\n",
      "The F1 of Static Model = 79.23771313941825%\n"
     ]
    },
    {
     "name": "stderr",
     "output_type": "stream",
     "text": [
      "C:\\Users\\admin\\AppData\\Local\\Temp\\ipykernel_12960\\3968469003.py:41: FutureWarning: The frame.append method is deprecated and will be removed from pandas in a future version. Use pandas.concat instead.\n",
      "  performance_df = performance_df.append({\"Window\": itr, \"Dynamic F1\": D_f1, \"Static F1\": S_f1}, ignore_index=True)\n"
     ]
    },
    {
     "name": "stdout",
     "output_type": "stream",
     "text": [
      "**********\n",
      "The F1 Score of Dynamic Model without retrain = 82.38238238238237%\n",
      "Retraining model on new data\n",
      "The F1 of Dynamic Model after retrain = 81.98198198198197%\n",
      "The F1 of Static Model = 81.48148148148148%\n",
      "**********\n"
     ]
    },
    {
     "name": "stderr",
     "output_type": "stream",
     "text": [
      "C:\\Users\\admin\\AppData\\Local\\Temp\\ipykernel_12960\\3968469003.py:41: FutureWarning: The frame.append method is deprecated and will be removed from pandas in a future version. Use pandas.concat instead.\n",
      "  performance_df = performance_df.append({\"Window\": itr, \"Dynamic F1\": D_f1, \"Static F1\": S_f1}, ignore_index=True)\n"
     ]
    },
    {
     "name": "stdout",
     "output_type": "stream",
     "text": [
      "The F1 Score of Dynamic Model without retrain = 81.1623246492986%\n",
      "Retraining model on new data\n",
      "The F1 of Dynamic Model after retrain = 80.66132264529058%\n",
      "The F1 of Static Model = 80.36072144288578%\n",
      "**********\n"
     ]
    },
    {
     "name": "stderr",
     "output_type": "stream",
     "text": [
      "C:\\Users\\admin\\AppData\\Local\\Temp\\ipykernel_12960\\3968469003.py:41: FutureWarning: The frame.append method is deprecated and will be removed from pandas in a future version. Use pandas.concat instead.\n",
      "  performance_df = performance_df.append({\"Window\": itr, \"Dynamic F1\": D_f1, \"Static F1\": S_f1}, ignore_index=True)\n"
     ]
    },
    {
     "name": "stdout",
     "output_type": "stream",
     "text": [
      "The F1 Score of Dynamic Model without retrain = 80.68068068068068%\n",
      "Retraining model on new data\n",
      "The F1 of Dynamic Model after retrain = 65.66566566566566%\n",
      "The F1 of Static Model = 79.97997997997997%\n",
      "**********\n"
     ]
    },
    {
     "name": "stderr",
     "output_type": "stream",
     "text": [
      "C:\\Users\\admin\\AppData\\Local\\Temp\\ipykernel_12960\\3968469003.py:41: FutureWarning: The frame.append method is deprecated and will be removed from pandas in a future version. Use pandas.concat instead.\n",
      "  performance_df = performance_df.append({\"Window\": itr, \"Dynamic F1\": D_f1, \"Static F1\": S_f1}, ignore_index=True)\n"
     ]
    },
    {
     "name": "stdout",
     "output_type": "stream",
     "text": [
      "The F1 Score of Dynamic Model without retrain = 79.25851703406813%\n",
      "Retraining model on new data\n",
      "The F1 of Dynamic Model after retrain = 78.65731462925851%\n",
      "The F1 of Static Model = 79.25851703406813%\n",
      "**********\n"
     ]
    },
    {
     "name": "stderr",
     "output_type": "stream",
     "text": [
      "C:\\Users\\admin\\AppData\\Local\\Temp\\ipykernel_12960\\3968469003.py:41: FutureWarning: The frame.append method is deprecated and will be removed from pandas in a future version. Use pandas.concat instead.\n",
      "  performance_df = performance_df.append({\"Window\": itr, \"Dynamic F1\": D_f1, \"Static F1\": S_f1}, ignore_index=True)\n"
     ]
    },
    {
     "name": "stdout",
     "output_type": "stream",
     "text": [
      "The F1 Score of Dynamic Model without retrain = 79.9%\n",
      "Retraining model on new data\n",
      "The F1 of Dynamic Model after retrain = 82.6%\n",
      "The F1 of Static Model = 81.8%\n",
      "**********\n"
     ]
    },
    {
     "name": "stderr",
     "output_type": "stream",
     "text": [
      "C:\\Users\\admin\\AppData\\Local\\Temp\\ipykernel_12960\\3968469003.py:41: FutureWarning: The frame.append method is deprecated and will be removed from pandas in a future version. Use pandas.concat instead.\n",
      "  performance_df = performance_df.append({\"Window\": itr, \"Dynamic F1\": D_f1, \"Static F1\": S_f1}, ignore_index=True)\n"
     ]
    },
    {
     "name": "stdout",
     "output_type": "stream",
     "text": [
      "The F1 Score of Dynamic Model without retrain = 80.94282848545636%\n",
      "Retraining model on new data\n",
      "The F1 of Dynamic Model after retrain = 81.74523570712137%\n",
      "The F1 of Static Model = 81.74523570712137%\n",
      "**********\n"
     ]
    },
    {
     "name": "stderr",
     "output_type": "stream",
     "text": [
      "C:\\Users\\admin\\AppData\\Local\\Temp\\ipykernel_12960\\3968469003.py:41: FutureWarning: The frame.append method is deprecated and will be removed from pandas in a future version. Use pandas.concat instead.\n",
      "  performance_df = performance_df.append({\"Window\": itr, \"Dynamic F1\": D_f1, \"Static F1\": S_f1}, ignore_index=True)\n"
     ]
    },
    {
     "name": "stdout",
     "output_type": "stream",
     "text": [
      "The F1 Score of Dynamic Model without retrain = 80.96192384769539%\n",
      "Retraining model on new data\n",
      "The F1 of Dynamic Model after retrain = 80.66132264529058%\n",
      "The F1 of Static Model = 80.46092184368737%\n",
      "**********\n"
     ]
    },
    {
     "name": "stderr",
     "output_type": "stream",
     "text": [
      "C:\\Users\\admin\\AppData\\Local\\Temp\\ipykernel_12960\\3968469003.py:41: FutureWarning: The frame.append method is deprecated and will be removed from pandas in a future version. Use pandas.concat instead.\n",
      "  performance_df = performance_df.append({\"Window\": itr, \"Dynamic F1\": D_f1, \"Static F1\": S_f1}, ignore_index=True)\n"
     ]
    },
    {
     "name": "stdout",
     "output_type": "stream",
     "text": [
      "The F1 Score of Dynamic Model without retrain = 80.9%\n",
      "Retraining model on new data\n",
      "The F1 of Dynamic Model after retrain = 80.5%\n",
      "The F1 of Static Model = 79.80000000000001%\n",
      "**********\n"
     ]
    },
    {
     "name": "stderr",
     "output_type": "stream",
     "text": [
      "C:\\Users\\admin\\AppData\\Local\\Temp\\ipykernel_12960\\3968469003.py:41: FutureWarning: The frame.append method is deprecated and will be removed from pandas in a future version. Use pandas.concat instead.\n",
      "  performance_df = performance_df.append({\"Window\": itr, \"Dynamic F1\": D_f1, \"Static F1\": S_f1}, ignore_index=True)\n"
     ]
    },
    {
     "name": "stdout",
     "output_type": "stream",
     "text": [
      "The F1 Score of Dynamic Model without retrain = 80.7615230460922%\n",
      "Retraining model on new data\n",
      "The F1 of Dynamic Model after retrain = 80.86172344689379%\n",
      "The F1 of Static Model = 80.46092184368737%\n",
      "**********\n"
     ]
    },
    {
     "name": "stderr",
     "output_type": "stream",
     "text": [
      "C:\\Users\\admin\\AppData\\Local\\Temp\\ipykernel_12960\\3968469003.py:41: FutureWarning: The frame.append method is deprecated and will be removed from pandas in a future version. Use pandas.concat instead.\n",
      "  performance_df = performance_df.append({\"Window\": itr, \"Dynamic F1\": D_f1, \"Static F1\": S_f1}, ignore_index=True)\n"
     ]
    },
    {
     "name": "stdout",
     "output_type": "stream",
     "text": [
      "The F1 Score of Dynamic Model without retrain = 79.73921765295887%\n",
      "Retraining model on new data\n",
      "The F1 of Dynamic Model after retrain = 79.93981945837513%\n",
      "The F1 of Static Model = 79.4383149448345%\n"
     ]
    },
    {
     "name": "stderr",
     "output_type": "stream",
     "text": [
      "C:\\Users\\admin\\AppData\\Local\\Temp\\ipykernel_12960\\3968469003.py:41: FutureWarning: The frame.append method is deprecated and will be removed from pandas in a future version. Use pandas.concat instead.\n",
      "  performance_df = performance_df.append({\"Window\": itr, \"Dynamic F1\": D_f1, \"Static F1\": S_f1}, ignore_index=True)\n"
     ]
    },
    {
     "name": "stdout",
     "output_type": "stream",
     "text": [
      "**********\n",
      "The F1 Score of Dynamic Model without retrain = 79.97997997997997%\n",
      "Retraining model on new data\n",
      "The F1 of Dynamic Model after retrain = 79.77977977977979%\n",
      "The F1 of Static Model = 79.47947947947948%\n",
      "**********\n"
     ]
    },
    {
     "name": "stderr",
     "output_type": "stream",
     "text": [
      "C:\\Users\\admin\\AppData\\Local\\Temp\\ipykernel_12960\\3968469003.py:41: FutureWarning: The frame.append method is deprecated and will be removed from pandas in a future version. Use pandas.concat instead.\n",
      "  performance_df = performance_df.append({\"Window\": itr, \"Dynamic F1\": D_f1, \"Static F1\": S_f1}, ignore_index=True)\n"
     ]
    },
    {
     "name": "stdout",
     "output_type": "stream",
     "text": [
      "The F1 Score of Dynamic Model without retrain = 78.8%\n",
      "Retraining model on new data\n",
      "The F1 of Dynamic Model after retrain = 67.60000000000001%\n",
      "The F1 of Static Model = 78.2%\n",
      "**********\n"
     ]
    },
    {
     "name": "stderr",
     "output_type": "stream",
     "text": [
      "C:\\Users\\admin\\AppData\\Local\\Temp\\ipykernel_12960\\3968469003.py:41: FutureWarning: The frame.append method is deprecated and will be removed from pandas in a future version. Use pandas.concat instead.\n",
      "  performance_df = performance_df.append({\"Window\": itr, \"Dynamic F1\": D_f1, \"Static F1\": S_f1}, ignore_index=True)\n"
     ]
    },
    {
     "name": "stdout",
     "output_type": "stream",
     "text": [
      "The F1 Score of Dynamic Model without retrain = 68.16816816816817%\n",
      "Retraining model on new data\n",
      "The F1 of Dynamic Model after retrain = 81.18118118118119%\n",
      "The F1 of Static Model = 80.48048048048048%\n",
      "**********\n"
     ]
    },
    {
     "name": "stderr",
     "output_type": "stream",
     "text": [
      "C:\\Users\\admin\\AppData\\Local\\Temp\\ipykernel_12960\\3968469003.py:41: FutureWarning: The frame.append method is deprecated and will be removed from pandas in a future version. Use pandas.concat instead.\n",
      "  performance_df = performance_df.append({\"Window\": itr, \"Dynamic F1\": D_f1, \"Static F1\": S_f1}, ignore_index=True)\n"
     ]
    },
    {
     "name": "stdout",
     "output_type": "stream",
     "text": [
      "The F1 Score of Dynamic Model without retrain = 82.73092369477911%\n",
      "Retraining model on new data\n",
      "The F1 of Dynamic Model after retrain = 81.42570281124499%\n",
      "The F1 of Static Model = 81.72690763052208%\n",
      "**********\n",
      "The F1 Score of Dynamic Model without retrain = 79.10000000000001%\n",
      "Retraining model on new data\n"
     ]
    },
    {
     "name": "stderr",
     "output_type": "stream",
     "text": [
      "C:\\Users\\admin\\AppData\\Local\\Temp\\ipykernel_12960\\3968469003.py:41: FutureWarning: The frame.append method is deprecated and will be removed from pandas in a future version. Use pandas.concat instead.\n",
      "  performance_df = performance_df.append({\"Window\": itr, \"Dynamic F1\": D_f1, \"Static F1\": S_f1}, ignore_index=True)\n"
     ]
    },
    {
     "name": "stdout",
     "output_type": "stream",
     "text": [
      "The F1 of Dynamic Model after retrain = 81.8%\n",
      "The F1 of Static Model = 80.5%\n",
      "**********\n"
     ]
    },
    {
     "name": "stderr",
     "output_type": "stream",
     "text": [
      "C:\\Users\\admin\\AppData\\Local\\Temp\\ipykernel_12960\\3968469003.py:41: FutureWarning: The frame.append method is deprecated and will be removed from pandas in a future version. Use pandas.concat instead.\n",
      "  performance_df = performance_df.append({\"Window\": itr, \"Dynamic F1\": D_f1, \"Static F1\": S_f1}, ignore_index=True)\n"
     ]
    },
    {
     "name": "stdout",
     "output_type": "stream",
     "text": [
      "The F1 Score of Dynamic Model without retrain = 82.06412825651303%\n",
      "Retraining model on new data\n",
      "The F1 of Dynamic Model after retrain = 82.16432865731463%\n",
      "The F1 of Static Model = 81.2625250501002%\n",
      "**********\n"
     ]
    },
    {
     "name": "stderr",
     "output_type": "stream",
     "text": [
      "C:\\Users\\admin\\AppData\\Local\\Temp\\ipykernel_12960\\3968469003.py:41: FutureWarning: The frame.append method is deprecated and will be removed from pandas in a future version. Use pandas.concat instead.\n",
      "  performance_df = performance_df.append({\"Window\": itr, \"Dynamic F1\": D_f1, \"Static F1\": S_f1}, ignore_index=True)\n"
     ]
    },
    {
     "name": "stdout",
     "output_type": "stream",
     "text": [
      "The F1 Score of Dynamic Model without retrain = 81.78178178178179%\n",
      "Retraining model on new data\n",
      "The F1 of Dynamic Model after retrain = 81.88188188188188%\n",
      "The F1 of Static Model = 81.38138138138137%\n",
      "**********\n"
     ]
    },
    {
     "name": "stderr",
     "output_type": "stream",
     "text": [
      "C:\\Users\\admin\\AppData\\Local\\Temp\\ipykernel_12960\\3968469003.py:41: FutureWarning: The frame.append method is deprecated and will be removed from pandas in a future version. Use pandas.concat instead.\n",
      "  performance_df = performance_df.append({\"Window\": itr, \"Dynamic F1\": D_f1, \"Static F1\": S_f1}, ignore_index=True)\n"
     ]
    },
    {
     "name": "stdout",
     "output_type": "stream",
     "text": [
      "The F1 Score of Dynamic Model without retrain = 80.10000000000001%\n",
      "Retraining model on new data\n",
      "The F1 of Dynamic Model after retrain = 79.60000000000001%\n",
      "The F1 of Static Model = 79.2%\n",
      "**********\n"
     ]
    },
    {
     "name": "stderr",
     "output_type": "stream",
     "text": [
      "C:\\Users\\admin\\AppData\\Local\\Temp\\ipykernel_12960\\3968469003.py:41: FutureWarning: The frame.append method is deprecated and will be removed from pandas in a future version. Use pandas.concat instead.\n",
      "  performance_df = performance_df.append({\"Window\": itr, \"Dynamic F1\": D_f1, \"Static F1\": S_f1}, ignore_index=True)\n"
     ]
    },
    {
     "name": "stdout",
     "output_type": "stream",
     "text": [
      "The F1 Score of Dynamic Model without retrain = 81.4629258517034%\n",
      "Retraining model on new data\n",
      "The F1 of Dynamic Model after retrain = 81.06212424849699%\n",
      "The F1 of Static Model = 80.86172344689379%\n",
      "**********\n"
     ]
    },
    {
     "name": "stderr",
     "output_type": "stream",
     "text": [
      "C:\\Users\\admin\\AppData\\Local\\Temp\\ipykernel_12960\\3968469003.py:41: FutureWarning: The frame.append method is deprecated and will be removed from pandas in a future version. Use pandas.concat instead.\n",
      "  performance_df = performance_df.append({\"Window\": itr, \"Dynamic F1\": D_f1, \"Static F1\": S_f1}, ignore_index=True)\n"
     ]
    },
    {
     "name": "stdout",
     "output_type": "stream",
     "text": [
      "The F1 Score of Dynamic Model without retrain = 80.80000000000001%\n",
      "Retraining model on new data\n",
      "The F1 of Dynamic Model after retrain = 79.9%\n",
      "The F1 of Static Model = 80.60000000000001%\n",
      "**********\n"
     ]
    },
    {
     "name": "stderr",
     "output_type": "stream",
     "text": [
      "C:\\Users\\admin\\AppData\\Local\\Temp\\ipykernel_12960\\3968469003.py:41: FutureWarning: The frame.append method is deprecated and will be removed from pandas in a future version. Use pandas.concat instead.\n",
      "  performance_df = performance_df.append({\"Window\": itr, \"Dynamic F1\": D_f1, \"Static F1\": S_f1}, ignore_index=True)\n"
     ]
    },
    {
     "name": "stdout",
     "output_type": "stream",
     "text": [
      "The F1 Score of Dynamic Model without retrain = 79.71887550200803%\n",
      "Retraining model on new data\n",
      "The F1 of Dynamic Model after retrain = 79.21686746987952%\n",
      "The F1 of Static Model = 79.31726907630522%\n",
      "**********\n"
     ]
    },
    {
     "name": "stderr",
     "output_type": "stream",
     "text": [
      "C:\\Users\\admin\\AppData\\Local\\Temp\\ipykernel_12960\\3968469003.py:41: FutureWarning: The frame.append method is deprecated and will be removed from pandas in a future version. Use pandas.concat instead.\n",
      "  performance_df = performance_df.append({\"Window\": itr, \"Dynamic F1\": D_f1, \"Static F1\": S_f1}, ignore_index=True)\n"
     ]
    },
    {
     "name": "stdout",
     "output_type": "stream",
     "text": [
      "The F1 Score of Dynamic Model without retrain = 79.33801404212637%\n",
      "Retraining model on new data\n",
      "The F1 of Dynamic Model after retrain = 78.73620862587764%\n",
      "The F1 of Static Model = 78.93681043129388%\n",
      "**********\n"
     ]
    },
    {
     "name": "stderr",
     "output_type": "stream",
     "text": [
      "C:\\Users\\admin\\AppData\\Local\\Temp\\ipykernel_12960\\3968469003.py:41: FutureWarning: The frame.append method is deprecated and will be removed from pandas in a future version. Use pandas.concat instead.\n",
      "  performance_df = performance_df.append({\"Window\": itr, \"Dynamic F1\": D_f1, \"Static F1\": S_f1}, ignore_index=True)\n"
     ]
    },
    {
     "name": "stdout",
     "output_type": "stream",
     "text": [
      "The F1 Score of Dynamic Model without retrain = 80.7%\n",
      "Retraining model on new data\n",
      "The F1 of Dynamic Model after retrain = 81.0%\n",
      "The F1 of Static Model = 80.9%\n"
     ]
    },
    {
     "name": "stderr",
     "output_type": "stream",
     "text": [
      "C:\\Users\\admin\\AppData\\Local\\Temp\\ipykernel_12960\\3968469003.py:41: FutureWarning: The frame.append method is deprecated and will be removed from pandas in a future version. Use pandas.concat instead.\n",
      "  performance_df = performance_df.append({\"Window\": itr, \"Dynamic F1\": D_f1, \"Static F1\": S_f1}, ignore_index=True)\n"
     ]
    },
    {
     "name": "stdout",
     "output_type": "stream",
     "text": [
      "**********\n",
      "The F1 Score of Dynamic Model without retrain = 82.58258258258259%\n",
      "Retraining model on new data\n",
      "The F1 of Dynamic Model after retrain = 82.58258258258259%\n",
      "The F1 of Static Model = 82.28228228228228%\n",
      "**********\n"
     ]
    },
    {
     "name": "stderr",
     "output_type": "stream",
     "text": [
      "C:\\Users\\admin\\AppData\\Local\\Temp\\ipykernel_12960\\3968469003.py:41: FutureWarning: The frame.append method is deprecated and will be removed from pandas in a future version. Use pandas.concat instead.\n",
      "  performance_df = performance_df.append({\"Window\": itr, \"Dynamic F1\": D_f1, \"Static F1\": S_f1}, ignore_index=True)\n"
     ]
    },
    {
     "name": "stdout",
     "output_type": "stream",
     "text": [
      "The F1 Score of Dynamic Model without retrain = 80.9%\n",
      "Retraining model on new data\n",
      "The F1 of Dynamic Model after retrain = 81.39999999999999%\n",
      "The F1 of Static Model = 81.0%\n",
      "**********\n"
     ]
    },
    {
     "name": "stderr",
     "output_type": "stream",
     "text": [
      "C:\\Users\\admin\\AppData\\Local\\Temp\\ipykernel_12960\\3968469003.py:41: FutureWarning: The frame.append method is deprecated and will be removed from pandas in a future version. Use pandas.concat instead.\n",
      "  performance_df = performance_df.append({\"Window\": itr, \"Dynamic F1\": D_f1, \"Static F1\": S_f1}, ignore_index=True)\n"
     ]
    },
    {
     "name": "stdout",
     "output_type": "stream",
     "text": [
      "The F1 Score of Dynamic Model without retrain = 80.68068068068068%\n",
      "Retraining model on new data\n",
      "The F1 of Dynamic Model after retrain = 80.98098098098097%\n",
      "The F1 of Static Model = 80.28028028028028%\n",
      "**********\n"
     ]
    },
    {
     "name": "stderr",
     "output_type": "stream",
     "text": [
      "C:\\Users\\admin\\AppData\\Local\\Temp\\ipykernel_12960\\3968469003.py:41: FutureWarning: The frame.append method is deprecated and will be removed from pandas in a future version. Use pandas.concat instead.\n",
      "  performance_df = performance_df.append({\"Window\": itr, \"Dynamic F1\": D_f1, \"Static F1\": S_f1}, ignore_index=True)\n"
     ]
    },
    {
     "name": "stdout",
     "output_type": "stream",
     "text": [
      "The F1 Score of Dynamic Model without retrain = 81.32530120481928%\n",
      "Retraining model on new data\n",
      "The F1 of Dynamic Model after retrain = 81.32530120481928%\n",
      "The F1 of Static Model = 80.52208835341365%\n",
      "**********\n"
     ]
    },
    {
     "name": "stderr",
     "output_type": "stream",
     "text": [
      "C:\\Users\\admin\\AppData\\Local\\Temp\\ipykernel_12960\\3968469003.py:41: FutureWarning: The frame.append method is deprecated and will be removed from pandas in a future version. Use pandas.concat instead.\n",
      "  performance_df = performance_df.append({\"Window\": itr, \"Dynamic F1\": D_f1, \"Static F1\": S_f1}, ignore_index=True)\n"
     ]
    },
    {
     "name": "stdout",
     "output_type": "stream",
     "text": [
      "The F1 Score of Dynamic Model without retrain = 80.88088088088088%\n",
      "Retraining model on new data\n",
      "The F1 of Dynamic Model after retrain = 80.88088088088088%\n",
      "The F1 of Static Model = 80.28028028028028%\n",
      "**********\n"
     ]
    },
    {
     "name": "stderr",
     "output_type": "stream",
     "text": [
      "C:\\Users\\admin\\AppData\\Local\\Temp\\ipykernel_12960\\3968469003.py:41: FutureWarning: The frame.append method is deprecated and will be removed from pandas in a future version. Use pandas.concat instead.\n",
      "  performance_df = performance_df.append({\"Window\": itr, \"Dynamic F1\": D_f1, \"Static F1\": S_f1}, ignore_index=True)\n"
     ]
    },
    {
     "name": "stdout",
     "output_type": "stream",
     "text": [
      "The F1 Score of Dynamic Model without retrain = 81.3627254509018%\n",
      "Retraining model on new data\n",
      "The F1 of Dynamic Model after retrain = 81.4629258517034%\n",
      "The F1 of Static Model = 80.86172344689379%\n",
      "**********\n"
     ]
    },
    {
     "name": "stderr",
     "output_type": "stream",
     "text": [
      "C:\\Users\\admin\\AppData\\Local\\Temp\\ipykernel_12960\\3968469003.py:41: FutureWarning: The frame.append method is deprecated and will be removed from pandas in a future version. Use pandas.concat instead.\n",
      "  performance_df = performance_df.append({\"Window\": itr, \"Dynamic F1\": D_f1, \"Static F1\": S_f1}, ignore_index=True)\n"
     ]
    },
    {
     "name": "stdout",
     "output_type": "stream",
     "text": [
      "The F1 Score of Dynamic Model without retrain = 82.54764292878636%\n",
      "Retraining model on new data\n",
      "The F1 of Dynamic Model after retrain = 82.44734202607823%\n",
      "The F1 of Static Model = 82.94884653961886%\n",
      "**********\n"
     ]
    },
    {
     "name": "stderr",
     "output_type": "stream",
     "text": [
      "C:\\Users\\admin\\AppData\\Local\\Temp\\ipykernel_12960\\3968469003.py:41: FutureWarning: The frame.append method is deprecated and will be removed from pandas in a future version. Use pandas.concat instead.\n",
      "  performance_df = performance_df.append({\"Window\": itr, \"Dynamic F1\": D_f1, \"Static F1\": S_f1}, ignore_index=True)\n"
     ]
    },
    {
     "name": "stdout",
     "output_type": "stream",
     "text": [
      "The F1 Score of Dynamic Model without retrain = 80.12048192771084%\n",
      "Retraining model on new data\n",
      "The F1 of Dynamic Model after retrain = 80.42168674698796%\n",
      "The F1 of Static Model = 79.91967871485943%\n",
      "**********\n"
     ]
    },
    {
     "name": "stderr",
     "output_type": "stream",
     "text": [
      "C:\\Users\\admin\\AppData\\Local\\Temp\\ipykernel_12960\\3968469003.py:41: FutureWarning: The frame.append method is deprecated and will be removed from pandas in a future version. Use pandas.concat instead.\n",
      "  performance_df = performance_df.append({\"Window\": itr, \"Dynamic F1\": D_f1, \"Static F1\": S_f1}, ignore_index=True)\n"
     ]
    },
    {
     "name": "stdout",
     "output_type": "stream",
     "text": [
      "The F1 Score of Dynamic Model without retrain = 79.85971943887775%\n",
      "Retraining model on new data\n",
      "The F1 of Dynamic Model after retrain = 79.85971943887775%\n",
      "The F1 of Static Model = 79.25851703406813%\n",
      "**********\n"
     ]
    },
    {
     "name": "stderr",
     "output_type": "stream",
     "text": [
      "C:\\Users\\admin\\AppData\\Local\\Temp\\ipykernel_12960\\3968469003.py:41: FutureWarning: The frame.append method is deprecated and will be removed from pandas in a future version. Use pandas.concat instead.\n",
      "  performance_df = performance_df.append({\"Window\": itr, \"Dynamic F1\": D_f1, \"Static F1\": S_f1}, ignore_index=True)\n"
     ]
    },
    {
     "name": "stdout",
     "output_type": "stream",
     "text": [
      "The F1 Score of Dynamic Model without retrain = 80.48048048048048%\n",
      "Retraining model on new data\n",
      "The F1 of Dynamic Model after retrain = 79.97997997997997%\n",
      "The F1 of Static Model = 80.68068068068068%\n",
      "**********\n"
     ]
    },
    {
     "name": "stderr",
     "output_type": "stream",
     "text": [
      "C:\\Users\\admin\\AppData\\Local\\Temp\\ipykernel_12960\\3968469003.py:41: FutureWarning: The frame.append method is deprecated and will be removed from pandas in a future version. Use pandas.concat instead.\n",
      "  performance_df = performance_df.append({\"Window\": itr, \"Dynamic F1\": D_f1, \"Static F1\": S_f1}, ignore_index=True)\n"
     ]
    },
    {
     "name": "stdout",
     "output_type": "stream",
     "text": [
      "The F1 Score of Dynamic Model without retrain = 81.42570281124499%\n",
      "Retraining model on new data\n",
      "The F1 of Dynamic Model after retrain = 81.92771084337349%\n",
      "The F1 of Static Model = 81.02409638554217%\n",
      "**********\n"
     ]
    },
    {
     "name": "stderr",
     "output_type": "stream",
     "text": [
      "C:\\Users\\admin\\AppData\\Local\\Temp\\ipykernel_12960\\3968469003.py:41: FutureWarning: The frame.append method is deprecated and will be removed from pandas in a future version. Use pandas.concat instead.\n",
      "  performance_df = performance_df.append({\"Window\": itr, \"Dynamic F1\": D_f1, \"Static F1\": S_f1}, ignore_index=True)\n"
     ]
    },
    {
     "name": "stdout",
     "output_type": "stream",
     "text": [
      "The F1 Score of Dynamic Model without retrain = 79.33801404212637%\n",
      "Retraining model on new data\n",
      "The F1 of Dynamic Model after retrain = 79.037111334002%\n",
      "The F1 of Static Model = 78.73620862587764%\n",
      "**********\n"
     ]
    },
    {
     "name": "stderr",
     "output_type": "stream",
     "text": [
      "C:\\Users\\admin\\AppData\\Local\\Temp\\ipykernel_12960\\3968469003.py:41: FutureWarning: The frame.append method is deprecated and will be removed from pandas in a future version. Use pandas.concat instead.\n",
      "  performance_df = performance_df.append({\"Window\": itr, \"Dynamic F1\": D_f1, \"Static F1\": S_f1}, ignore_index=True)\n"
     ]
    },
    {
     "name": "stdout",
     "output_type": "stream",
     "text": [
      "The F1 Score of Dynamic Model without retrain = 82.28228228228228%\n",
      "Retraining model on new data\n",
      "The F1 of Dynamic Model after retrain = 82.18218218218219%\n",
      "The F1 of Static Model = 81.58158158158159%\n",
      "**********\n"
     ]
    },
    {
     "name": "stderr",
     "output_type": "stream",
     "text": [
      "C:\\Users\\admin\\AppData\\Local\\Temp\\ipykernel_12960\\3968469003.py:41: FutureWarning: The frame.append method is deprecated and will be removed from pandas in a future version. Use pandas.concat instead.\n",
      "  performance_df = performance_df.append({\"Window\": itr, \"Dynamic F1\": D_f1, \"Static F1\": S_f1}, ignore_index=True)\n"
     ]
    },
    {
     "name": "stdout",
     "output_type": "stream",
     "text": [
      "The F1 Score of Dynamic Model without retrain = 79.57957957957959%\n",
      "Retraining model on new data\n",
      "The F1 of Dynamic Model after retrain = 80.88088088088088%\n",
      "The F1 of Static Model = 80.68068068068068%\n"
     ]
    },
    {
     "name": "stderr",
     "output_type": "stream",
     "text": [
      "C:\\Users\\admin\\AppData\\Local\\Temp\\ipykernel_12960\\3968469003.py:41: FutureWarning: The frame.append method is deprecated and will be removed from pandas in a future version. Use pandas.concat instead.\n",
      "  performance_df = performance_df.append({\"Window\": itr, \"Dynamic F1\": D_f1, \"Static F1\": S_f1}, ignore_index=True)\n"
     ]
    },
    {
     "name": "stdout",
     "output_type": "stream",
     "text": [
      "**********\n",
      "The F1 Score of Dynamic Model without retrain = 62.88866599799399%\n",
      "Retraining model on new data\n",
      "The F1 of Dynamic Model after retrain = 81.84553660982948%\n",
      "The F1 of Static Model = 81.444332998997%\n",
      "**********\n"
     ]
    },
    {
     "name": "stderr",
     "output_type": "stream",
     "text": [
      "C:\\Users\\admin\\AppData\\Local\\Temp\\ipykernel_12960\\3968469003.py:41: FutureWarning: The frame.append method is deprecated and will be removed from pandas in a future version. Use pandas.concat instead.\n",
      "  performance_df = performance_df.append({\"Window\": itr, \"Dynamic F1\": D_f1, \"Static F1\": S_f1}, ignore_index=True)\n"
     ]
    },
    {
     "name": "stdout",
     "output_type": "stream",
     "text": [
      "The F1 Score of Dynamic Model without retrain = 80.34102306920762%\n",
      "Retraining model on new data\n",
      "The F1 of Dynamic Model after retrain = 80.64192577733199%\n",
      "The F1 of Static Model = 80.64192577733199%\n",
      "**********\n"
     ]
    },
    {
     "name": "stderr",
     "output_type": "stream",
     "text": [
      "C:\\Users\\admin\\AppData\\Local\\Temp\\ipykernel_12960\\3968469003.py:41: FutureWarning: The frame.append method is deprecated and will be removed from pandas in a future version. Use pandas.concat instead.\n",
      "  performance_df = performance_df.append({\"Window\": itr, \"Dynamic F1\": D_f1, \"Static F1\": S_f1}, ignore_index=True)\n"
     ]
    },
    {
     "name": "stdout",
     "output_type": "stream",
     "text": [
      "The F1 Score of Dynamic Model without retrain = 82.48248248248248%\n",
      "Retraining model on new data\n",
      "The F1 of Dynamic Model after retrain = 82.88288288288288%\n",
      "The F1 of Static Model = 81.88188188188188%\n",
      "**********\n"
     ]
    },
    {
     "name": "stderr",
     "output_type": "stream",
     "text": [
      "C:\\Users\\admin\\AppData\\Local\\Temp\\ipykernel_12960\\3968469003.py:41: FutureWarning: The frame.append method is deprecated and will be removed from pandas in a future version. Use pandas.concat instead.\n",
      "  performance_df = performance_df.append({\"Window\": itr, \"Dynamic F1\": D_f1, \"Static F1\": S_f1}, ignore_index=True)\n"
     ]
    },
    {
     "name": "stdout",
     "output_type": "stream",
     "text": [
      "The F1 Score of Dynamic Model without retrain = 82.56513026052104%\n",
      "Retraining model on new data\n",
      "The F1 of Dynamic Model after retrain = 82.56513026052104%\n",
      "The F1 of Static Model = 82.26452905811624%\n",
      "**********\n"
     ]
    },
    {
     "name": "stderr",
     "output_type": "stream",
     "text": [
      "C:\\Users\\admin\\AppData\\Local\\Temp\\ipykernel_12960\\3968469003.py:41: FutureWarning: The frame.append method is deprecated and will be removed from pandas in a future version. Use pandas.concat instead.\n",
      "  performance_df = performance_df.append({\"Window\": itr, \"Dynamic F1\": D_f1, \"Static F1\": S_f1}, ignore_index=True)\n"
     ]
    },
    {
     "name": "stdout",
     "output_type": "stream",
     "text": [
      "The F1 Score of Dynamic Model without retrain = 80.60000000000001%\n",
      "Retraining model on new data\n",
      "The F1 of Dynamic Model after retrain = 80.9%\n",
      "The F1 of Static Model = 80.4%\n",
      "**********\n"
     ]
    },
    {
     "name": "stderr",
     "output_type": "stream",
     "text": [
      "C:\\Users\\admin\\AppData\\Local\\Temp\\ipykernel_12960\\3968469003.py:41: FutureWarning: The frame.append method is deprecated and will be removed from pandas in a future version. Use pandas.concat instead.\n",
      "  performance_df = performance_df.append({\"Window\": itr, \"Dynamic F1\": D_f1, \"Static F1\": S_f1}, ignore_index=True)\n"
     ]
    },
    {
     "name": "stdout",
     "output_type": "stream",
     "text": [
      "The F1 Score of Dynamic Model without retrain = 81.08108108108108%\n",
      "Retraining model on new data\n",
      "The F1 of Dynamic Model after retrain = 81.18118118118119%\n",
      "The F1 of Static Model = 80.48048048048048%\n",
      "**********\n"
     ]
    },
    {
     "name": "stderr",
     "output_type": "stream",
     "text": [
      "C:\\Users\\admin\\AppData\\Local\\Temp\\ipykernel_12960\\3968469003.py:41: FutureWarning: The frame.append method is deprecated and will be removed from pandas in a future version. Use pandas.concat instead.\n",
      "  performance_df = performance_df.append({\"Window\": itr, \"Dynamic F1\": D_f1, \"Static F1\": S_f1}, ignore_index=True)\n"
     ]
    },
    {
     "name": "stdout",
     "output_type": "stream",
     "text": [
      "The F1 Score of Dynamic Model without retrain = 81.88188188188188%\n",
      "Retraining model on new data\n",
      "The F1 of Dynamic Model after retrain = 80.78078078078079%\n",
      "The F1 of Static Model = 81.28128128128128%\n",
      "**********\n"
     ]
    },
    {
     "name": "stderr",
     "output_type": "stream",
     "text": [
      "C:\\Users\\admin\\AppData\\Local\\Temp\\ipykernel_12960\\3968469003.py:41: FutureWarning: The frame.append method is deprecated and will be removed from pandas in a future version. Use pandas.concat instead.\n",
      "  performance_df = performance_df.append({\"Window\": itr, \"Dynamic F1\": D_f1, \"Static F1\": S_f1}, ignore_index=True)\n"
     ]
    },
    {
     "name": "stdout",
     "output_type": "stream",
     "text": [
      "The F1 Score of Dynamic Model without retrain = 80.06042296072508%\n",
      "Retraining model on new data\n",
      "The F1 of Dynamic Model after retrain = 45.21651560926485%\n",
      "The F1 of Static Model = 81.1681772406848%\n",
      "**********\n"
     ]
    },
    {
     "name": "stderr",
     "output_type": "stream",
     "text": [
      "C:\\Users\\admin\\AppData\\Local\\Temp\\ipykernel_12960\\3968469003.py:41: FutureWarning: The frame.append method is deprecated and will be removed from pandas in a future version. Use pandas.concat instead.\n",
      "  performance_df = performance_df.append({\"Window\": itr, \"Dynamic F1\": D_f1, \"Static F1\": S_f1}, ignore_index=True)\n"
     ]
    },
    {
     "name": "stdout",
     "output_type": "stream",
     "text": [
      "The F1 Score of Dynamic Model without retrain = 77.55511022044088%\n",
      "Retraining model on new data\n",
      "The F1 of Dynamic Model after retrain = 81.66332665330661%\n",
      "The F1 of Static Model = 81.1623246492986%\n",
      "**********\n"
     ]
    },
    {
     "name": "stderr",
     "output_type": "stream",
     "text": [
      "C:\\Users\\admin\\AppData\\Local\\Temp\\ipykernel_12960\\3968469003.py:41: FutureWarning: The frame.append method is deprecated and will be removed from pandas in a future version. Use pandas.concat instead.\n",
      "  performance_df = performance_df.append({\"Window\": itr, \"Dynamic F1\": D_f1, \"Static F1\": S_f1}, ignore_index=True)\n"
     ]
    },
    {
     "name": "stdout",
     "output_type": "stream",
     "text": [
      "The F1 Score of Dynamic Model without retrain = 80.26052104208416%\n",
      "Retraining model on new data\n",
      "The F1 of Dynamic Model after retrain = 79.35871743486975%\n",
      "The F1 of Static Model = 80.16032064128257%\n",
      "**********\n"
     ]
    },
    {
     "name": "stderr",
     "output_type": "stream",
     "text": [
      "C:\\Users\\admin\\AppData\\Local\\Temp\\ipykernel_12960\\3968469003.py:41: FutureWarning: The frame.append method is deprecated and will be removed from pandas in a future version. Use pandas.concat instead.\n",
      "  performance_df = performance_df.append({\"Window\": itr, \"Dynamic F1\": D_f1, \"Static F1\": S_f1}, ignore_index=True)\n"
     ]
    },
    {
     "name": "stdout",
     "output_type": "stream",
     "text": [
      "The F1 Score of Dynamic Model without retrain = 77.83350050150452%\n",
      "Retraining model on new data\n",
      "The F1 of Dynamic Model after retrain = 78.13440320962889%\n",
      "The F1 of Static Model = 77.13139418254764%\n"
     ]
    },
    {
     "name": "stderr",
     "output_type": "stream",
     "text": [
      "C:\\Users\\admin\\AppData\\Local\\Temp\\ipykernel_12960\\3968469003.py:41: FutureWarning: The frame.append method is deprecated and will be removed from pandas in a future version. Use pandas.concat instead.\n",
      "  performance_df = performance_df.append({\"Window\": itr, \"Dynamic F1\": D_f1, \"Static F1\": S_f1}, ignore_index=True)\n"
     ]
    },
    {
     "name": "stdout",
     "output_type": "stream",
     "text": [
      "**********\n",
      "The F1 Score of Dynamic Model without retrain = 81.96392785571143%\n",
      "Retraining model on new data\n",
      "The F1 of Dynamic Model after retrain = 81.86372745490982%\n",
      "The F1 of Static Model = 81.1623246492986%\n",
      "**********\n"
     ]
    },
    {
     "name": "stderr",
     "output_type": "stream",
     "text": [
      "C:\\Users\\admin\\AppData\\Local\\Temp\\ipykernel_12960\\3968469003.py:41: FutureWarning: The frame.append method is deprecated and will be removed from pandas in a future version. Use pandas.concat instead.\n",
      "  performance_df = performance_df.append({\"Window\": itr, \"Dynamic F1\": D_f1, \"Static F1\": S_f1}, ignore_index=True)\n"
     ]
    },
    {
     "name": "stdout",
     "output_type": "stream",
     "text": [
      "The F1 Score of Dynamic Model without retrain = 80.08008008008008%\n",
      "Retraining model on new data\n",
      "The F1 of Dynamic Model after retrain = 78.97897897897897%\n",
      "The F1 of Static Model = 79.27927927927928%\n",
      "**********\n"
     ]
    },
    {
     "name": "stderr",
     "output_type": "stream",
     "text": [
      "C:\\Users\\admin\\AppData\\Local\\Temp\\ipykernel_12960\\3968469003.py:41: FutureWarning: The frame.append method is deprecated and will be removed from pandas in a future version. Use pandas.concat instead.\n",
      "  performance_df = performance_df.append({\"Window\": itr, \"Dynamic F1\": D_f1, \"Static F1\": S_f1}, ignore_index=True)\n"
     ]
    },
    {
     "name": "stdout",
     "output_type": "stream",
     "text": [
      "The F1 Score of Dynamic Model without retrain = 80.88088088088088%\n",
      "Retraining model on new data\n",
      "The F1 of Dynamic Model after retrain = 82.18218218218219%\n",
      "The F1 of Static Model = 81.68168168168168%\n",
      "**********\n"
     ]
    },
    {
     "name": "stderr",
     "output_type": "stream",
     "text": [
      "C:\\Users\\admin\\AppData\\Local\\Temp\\ipykernel_12960\\3968469003.py:41: FutureWarning: The frame.append method is deprecated and will be removed from pandas in a future version. Use pandas.concat instead.\n",
      "  performance_df = performance_df.append({\"Window\": itr, \"Dynamic F1\": D_f1, \"Static F1\": S_f1}, ignore_index=True)\n"
     ]
    },
    {
     "name": "stdout",
     "output_type": "stream",
     "text": [
      "The F1 Score of Dynamic Model without retrain = 83.1%\n",
      "Retraining model on new data\n",
      "The F1 of Dynamic Model after retrain = 83.2%\n",
      "The F1 of Static Model = 82.6%\n",
      "**********\n",
      "The F1 Score of Dynamic Model without retrain = 78.97897897897897%\n",
      "Retraining model on new data\n"
     ]
    },
    {
     "name": "stderr",
     "output_type": "stream",
     "text": [
      "C:\\Users\\admin\\AppData\\Local\\Temp\\ipykernel_12960\\3968469003.py:41: FutureWarning: The frame.append method is deprecated and will be removed from pandas in a future version. Use pandas.concat instead.\n",
      "  performance_df = performance_df.append({\"Window\": itr, \"Dynamic F1\": D_f1, \"Static F1\": S_f1}, ignore_index=True)\n"
     ]
    },
    {
     "name": "stdout",
     "output_type": "stream",
     "text": [
      "The F1 of Dynamic Model after retrain = 79.67967967967968%\n",
      "The F1 of Static Model = 79.57957957957959%\n",
      "**********\n"
     ]
    },
    {
     "name": "stderr",
     "output_type": "stream",
     "text": [
      "C:\\Users\\admin\\AppData\\Local\\Temp\\ipykernel_12960\\3968469003.py:41: FutureWarning: The frame.append method is deprecated and will be removed from pandas in a future version. Use pandas.concat instead.\n",
      "  performance_df = performance_df.append({\"Window\": itr, \"Dynamic F1\": D_f1, \"Static F1\": S_f1}, ignore_index=True)\n"
     ]
    },
    {
     "name": "stdout",
     "output_type": "stream",
     "text": [
      "The F1 Score of Dynamic Model without retrain = 81.92771084337349%\n",
      "Retraining model on new data\n",
      "The F1 of Dynamic Model after retrain = 81.82730923694778%\n",
      "The F1 of Static Model = 81.32530120481928%\n"
     ]
    },
    {
     "name": "stderr",
     "output_type": "stream",
     "text": [
      "C:\\Users\\admin\\AppData\\Local\\Temp\\ipykernel_12960\\3968469003.py:41: FutureWarning: The frame.append method is deprecated and will be removed from pandas in a future version. Use pandas.concat instead.\n",
      "  performance_df = performance_df.append({\"Window\": itr, \"Dynamic F1\": D_f1, \"Static F1\": S_f1}, ignore_index=True)\n"
     ]
    },
    {
     "name": "stdout",
     "output_type": "stream",
     "text": [
      "**********\n"
     ]
    },
    {
     "data": {
      "image/png": "[encoded data removed]",
      "text/plain": [
       "<Figure size 720x432 with 1 Axes>"
      ]
     },
     "metadata": {
      "needs_background": "light"
     },
     "output_type": "display_data"
    }
   ],
   "source": [
    "import pandas as pd\n",
    "from sklearn.metrics import accuracy_score\n",
    "import matplotlib.pyplot as plt\n",
    "\n",
    "list_of_f1_Dynamic_model = []\n",
    "list_of_f1_static_model = []\n",
    "\n",
    "# Initialize a DataFrame to store performance metrics\n",
    "performance_df = pd.DataFrame(columns=[\"Window\", \"Dynamic F1\", \"Static F1\"])\n",
    "\n",
    "for itr in range(1,120):\n",
    "        data = get_records(1000)\n",
    "        data = Read_data(data)\n",
    "        data = data_preprocessing(data)\n",
    "        data = Feature_select(data)\n",
    "        pip = pipe_line(data)\n",
    "        #print(data.head())\n",
    "        X = data.drop(labels=[\"Target Attack\"], axis=1)\n",
    "        y = data[\"Target Attack\"]\n",
    "        Dy_pred = Dynamic_model.predict(X)\n",
    "        D_f1 = accuracy_score(y, Dy_pred)\n",
    "        print(f\"The F1 Score of Dynamic Model without retrain = {D_f1 * 100}%\")\n",
    "        if (itr>1):\n",
    "                        \n",
    "                # Decision to retrain the dynamic model\n",
    "                if D_f1 < 0.85:\n",
    "                        print(\"Retraining model on new data\")\n",
    "                        Dynamic_model = pipe_line(training_data)\n",
    "                        Dy_pred = Dynamic_model.predict(X)\n",
    "                        D_f1 = accuracy_score(y, Dy_pred)\n",
    "                        print(f\"The F1 of Dynamic Model after retrain = {D_f1 * 100}%\")\n",
    "\n",
    "                Sy_pred = static_model.predict(X)\n",
    "                S_f1 = accuracy_score(y, Sy_pred)\n",
    "                print(f\"The F1 of Static Model = {S_f1 * 100}%\")\n",
    "\n",
    "                list_of_f1_Dynamic_model.append(D_f1)\n",
    "                list_of_f1_static_model.append(S_f1)\n",
    "\n",
    "                # Append performance metrics to the DataFrame\n",
    "                performance_df = performance_df.append({\"Window\": itr, \"Dynamic F1\": D_f1, \"Static F1\": S_f1}, ignore_index=True)\n",
    "                print(f\"{'*' * 10}\")\n",
    "        training_data = data\n",
    "\n",
    "\n",
    " \n",
    "\n",
    "# Basic data visualization (you can create more detailed plots as needed)\n",
    "plt.figure(figsize=(10, 6))\n",
    "plt.plot(performance_df[\"Window\"], performance_df[\"Dynamic F1\"], label=\"Dynamic Model F1\")\n",
    "plt.plot(performance_df[\"Window\"], performance_df[\"Static F1\"], label=\"Static Model F1\")\n",
    "plt.xlabel(\"Window\")\n",
    "plt.ylabel(\"F1 Score\")\n",
    "plt.legend()\n",
    "plt.title(\"Model Performance Over Time\")\n",
    "plt.grid(True)\n",
    "plt.show()\n"
   ]
  }
 ],
 "metadata": {
  "kernelspec": {
   "display_name": "Python 3 (ipykernel)",
   "language": "python",
   "name": "python3"
  },
  "language_info": {
   "codemirror_mode": {
    "name": "ipython",
    "version": 3
   },
   "file_extension": ".py",
   "mimetype": "text/x-python",
   "name": "python",
   "nbconvert_exporter": "python",
   "pygments_lexer": "ipython3",
   "version": "3.9.12"
  }
 },
 "nbformat": 4,
 "nbformat_minor": 5
}
